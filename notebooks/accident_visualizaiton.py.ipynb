{
 "cells": [
  {
   "cell_type": "code",
   "execution_count": 1,
   "metadata": {},
   "outputs": [],
   "source": [
    "import numpy as np\n",
    "import pandas as pd\n",
    "import matplotlib.pyplot as plt\n",
    "import seaborn as sns\n",
    "import plotly.graph_objects as go\n",
    "import matplotlib.ticker as ticker\n",
    "\n",
    "\n",
    "%matplotlib inline"
   ]
  },
  {
   "cell_type": "code",
   "execution_count": 2,
   "metadata": {},
   "outputs": [],
   "source": [
    "from src.dataset import load_dataset"
   ]
  },
  {
   "cell_type": "code",
   "execution_count": 3,
   "metadata": {},
   "outputs": [],
   "source": [
    "df = load_dataset()"
   ]
  },
  {
   "cell_type": "code",
   "execution_count": 4,
   "metadata": {},
   "outputs": [
    {
     "data": {
      "text/html": [
       "<div>\n",
       "<style scoped>\n",
       "    .dataframe tbody tr th:only-of-type {\n",
       "        vertical-align: middle;\n",
       "    }\n",
       "\n",
       "    .dataframe tbody tr th {\n",
       "        vertical-align: top;\n",
       "    }\n",
       "\n",
       "    .dataframe thead th {\n",
       "        text-align: right;\n",
       "    }\n",
       "</style>\n",
       "<table border=\"1\" class=\"dataframe\">\n",
       "  <thead>\n",
       "    <tr style=\"text-align: right;\">\n",
       "      <th></th>\n",
       "      <th>count</th>\n",
       "      <th>mean</th>\n",
       "      <th>std</th>\n",
       "      <th>min</th>\n",
       "      <th>25%</th>\n",
       "      <th>50%</th>\n",
       "      <th>75%</th>\n",
       "      <th>max</th>\n",
       "    </tr>\n",
       "  </thead>\n",
       "  <tbody>\n",
       "    <tr>\n",
       "      <td>TMC</td>\n",
       "      <td>2246264.0</td>\n",
       "      <td>207.831632</td>\n",
       "      <td>20.329586</td>\n",
       "      <td>200.000000</td>\n",
       "      <td>201.000000</td>\n",
       "      <td>201.000000</td>\n",
       "      <td>201.000000</td>\n",
       "      <td>4.060000e+02</td>\n",
       "    </tr>\n",
       "    <tr>\n",
       "      <td>Severity</td>\n",
       "      <td>2974335.0</td>\n",
       "      <td>2.360190</td>\n",
       "      <td>0.541473</td>\n",
       "      <td>1.000000</td>\n",
       "      <td>2.000000</td>\n",
       "      <td>2.000000</td>\n",
       "      <td>3.000000</td>\n",
       "      <td>4.000000e+00</td>\n",
       "    </tr>\n",
       "    <tr>\n",
       "      <td>Start_Lat</td>\n",
       "      <td>2974335.0</td>\n",
       "      <td>36.493605</td>\n",
       "      <td>4.918849</td>\n",
       "      <td>24.555269</td>\n",
       "      <td>33.550402</td>\n",
       "      <td>35.849689</td>\n",
       "      <td>40.370260</td>\n",
       "      <td>4.900220e+01</td>\n",
       "    </tr>\n",
       "    <tr>\n",
       "      <td>Start_Lng</td>\n",
       "      <td>2974335.0</td>\n",
       "      <td>-95.426254</td>\n",
       "      <td>17.218806</td>\n",
       "      <td>-124.623833</td>\n",
       "      <td>-117.291985</td>\n",
       "      <td>-90.250832</td>\n",
       "      <td>-80.918915</td>\n",
       "      <td>-6.711317e+01</td>\n",
       "    </tr>\n",
       "    <tr>\n",
       "      <td>End_Lat</td>\n",
       "      <td>728071.0</td>\n",
       "      <td>37.580871</td>\n",
       "      <td>5.004757</td>\n",
       "      <td>24.570110</td>\n",
       "      <td>33.957554</td>\n",
       "      <td>37.903670</td>\n",
       "      <td>41.372630</td>\n",
       "      <td>4.907500e+01</td>\n",
       "    </tr>\n",
       "    <tr>\n",
       "      <td>End_Lng</td>\n",
       "      <td>728071.0</td>\n",
       "      <td>-99.976032</td>\n",
       "      <td>18.416647</td>\n",
       "      <td>-124.497829</td>\n",
       "      <td>-118.286610</td>\n",
       "      <td>-96.631690</td>\n",
       "      <td>-82.323850</td>\n",
       "      <td>-6.710924e+01</td>\n",
       "    </tr>\n",
       "    <tr>\n",
       "      <td>Distance(mi)</td>\n",
       "      <td>2974335.0</td>\n",
       "      <td>0.285565</td>\n",
       "      <td>1.548392</td>\n",
       "      <td>0.000000</td>\n",
       "      <td>0.000000</td>\n",
       "      <td>0.000000</td>\n",
       "      <td>0.010000</td>\n",
       "      <td>3.336300e+02</td>\n",
       "    </tr>\n",
       "    <tr>\n",
       "      <td>Number</td>\n",
       "      <td>1056730.0</td>\n",
       "      <td>5837.003544</td>\n",
       "      <td>15159.278074</td>\n",
       "      <td>0.000000</td>\n",
       "      <td>837.000000</td>\n",
       "      <td>2717.000000</td>\n",
       "      <td>7000.000000</td>\n",
       "      <td>9.999997e+06</td>\n",
       "    </tr>\n",
       "    <tr>\n",
       "      <td>Temperature(F)</td>\n",
       "      <td>2918272.0</td>\n",
       "      <td>62.351203</td>\n",
       "      <td>18.788549</td>\n",
       "      <td>-77.800000</td>\n",
       "      <td>50.000000</td>\n",
       "      <td>64.400000</td>\n",
       "      <td>76.000000</td>\n",
       "      <td>1.706000e+02</td>\n",
       "    </tr>\n",
       "    <tr>\n",
       "      <td>Wind_Chill(F)</td>\n",
       "      <td>1121712.0</td>\n",
       "      <td>51.326849</td>\n",
       "      <td>25.191271</td>\n",
       "      <td>-65.900000</td>\n",
       "      <td>32.000000</td>\n",
       "      <td>54.000000</td>\n",
       "      <td>73.000000</td>\n",
       "      <td>1.150000e+02</td>\n",
       "    </tr>\n",
       "    <tr>\n",
       "      <td>Humidity(%)</td>\n",
       "      <td>2915162.0</td>\n",
       "      <td>65.405416</td>\n",
       "      <td>22.556763</td>\n",
       "      <td>1.000000</td>\n",
       "      <td>49.000000</td>\n",
       "      <td>67.000000</td>\n",
       "      <td>84.000000</td>\n",
       "      <td>1.000000e+02</td>\n",
       "    </tr>\n",
       "    <tr>\n",
       "      <td>Pressure(in)</td>\n",
       "      <td>2926193.0</td>\n",
       "      <td>29.831895</td>\n",
       "      <td>0.721381</td>\n",
       "      <td>0.000000</td>\n",
       "      <td>29.820000</td>\n",
       "      <td>29.980000</td>\n",
       "      <td>30.110000</td>\n",
       "      <td>3.304000e+01</td>\n",
       "    </tr>\n",
       "    <tr>\n",
       "      <td>Visibility(mi)</td>\n",
       "      <td>2908644.0</td>\n",
       "      <td>9.150770</td>\n",
       "      <td>2.892114</td>\n",
       "      <td>0.000000</td>\n",
       "      <td>10.000000</td>\n",
       "      <td>10.000000</td>\n",
       "      <td>10.000000</td>\n",
       "      <td>1.400000e+02</td>\n",
       "    </tr>\n",
       "    <tr>\n",
       "      <td>Wind_Speed(mph)</td>\n",
       "      <td>2533495.0</td>\n",
       "      <td>8.298064</td>\n",
       "      <td>5.138546</td>\n",
       "      <td>0.000000</td>\n",
       "      <td>4.600000</td>\n",
       "      <td>7.000000</td>\n",
       "      <td>10.400000</td>\n",
       "      <td>8.228000e+02</td>\n",
       "    </tr>\n",
       "    <tr>\n",
       "      <td>Precipitation(in)</td>\n",
       "      <td>975977.0</td>\n",
       "      <td>0.020495</td>\n",
       "      <td>0.235770</td>\n",
       "      <td>0.000000</td>\n",
       "      <td>0.000000</td>\n",
       "      <td>0.000000</td>\n",
       "      <td>0.000000</td>\n",
       "      <td>2.500000e+01</td>\n",
       "    </tr>\n",
       "  </tbody>\n",
       "</table>\n",
       "</div>"
      ],
      "text/plain": [
       "                       count         mean           std         min  \\\n",
       "TMC                2246264.0   207.831632     20.329586  200.000000   \n",
       "Severity           2974335.0     2.360190      0.541473    1.000000   \n",
       "Start_Lat          2974335.0    36.493605      4.918849   24.555269   \n",
       "Start_Lng          2974335.0   -95.426254     17.218806 -124.623833   \n",
       "End_Lat             728071.0    37.580871      5.004757   24.570110   \n",
       "End_Lng             728071.0   -99.976032     18.416647 -124.497829   \n",
       "Distance(mi)       2974335.0     0.285565      1.548392    0.000000   \n",
       "Number             1056730.0  5837.003544  15159.278074    0.000000   \n",
       "Temperature(F)     2918272.0    62.351203     18.788549  -77.800000   \n",
       "Wind_Chill(F)      1121712.0    51.326849     25.191271  -65.900000   \n",
       "Humidity(%)        2915162.0    65.405416     22.556763    1.000000   \n",
       "Pressure(in)       2926193.0    29.831895      0.721381    0.000000   \n",
       "Visibility(mi)     2908644.0     9.150770      2.892114    0.000000   \n",
       "Wind_Speed(mph)    2533495.0     8.298064      5.138546    0.000000   \n",
       "Precipitation(in)   975977.0     0.020495      0.235770    0.000000   \n",
       "\n",
       "                          25%          50%          75%           max  \n",
       "TMC                201.000000   201.000000   201.000000  4.060000e+02  \n",
       "Severity             2.000000     2.000000     3.000000  4.000000e+00  \n",
       "Start_Lat           33.550402    35.849689    40.370260  4.900220e+01  \n",
       "Start_Lng         -117.291985   -90.250832   -80.918915 -6.711317e+01  \n",
       "End_Lat             33.957554    37.903670    41.372630  4.907500e+01  \n",
       "End_Lng           -118.286610   -96.631690   -82.323850 -6.710924e+01  \n",
       "Distance(mi)         0.000000     0.000000     0.010000  3.336300e+02  \n",
       "Number             837.000000  2717.000000  7000.000000  9.999997e+06  \n",
       "Temperature(F)      50.000000    64.400000    76.000000  1.706000e+02  \n",
       "Wind_Chill(F)       32.000000    54.000000    73.000000  1.150000e+02  \n",
       "Humidity(%)         49.000000    67.000000    84.000000  1.000000e+02  \n",
       "Pressure(in)        29.820000    29.980000    30.110000  3.304000e+01  \n",
       "Visibility(mi)      10.000000    10.000000    10.000000  1.400000e+02  \n",
       "Wind_Speed(mph)      4.600000     7.000000    10.400000  8.228000e+02  \n",
       "Precipitation(in)    0.000000     0.000000     0.000000  2.500000e+01  "
      ]
     },
     "execution_count": 4,
     "metadata": {},
     "output_type": "execute_result"
    }
   ],
   "source": [
    "df.describe().T"
   ]
  },
  {
   "cell_type": "code",
   "execution_count": 5,
   "metadata": {},
   "outputs": [
    {
     "data": {
      "text/plain": [
       "array(['MapQuest', 'MapQuest-Bing', 'Bing'], dtype=object)"
      ]
     },
     "execution_count": 5,
     "metadata": {},
     "output_type": "execute_result"
    }
   ],
   "source": [
    "df['Source'].unique()"
   ]
  },
  {
   "cell_type": "code",
   "execution_count": 6,
   "metadata": {},
   "outputs": [
    {
     "data": {
      "image/png": "[encoded data removed]",
      "text/plain": [
       "<Figure size 720x432 with 1 Axes>"
      ]
     },
     "metadata": {
      "needs_background": "light"
     },
     "output_type": "display_data"
    }
   ],
   "source": [
    "fig, ax = plt.subplots(figsize=(10,6))\n",
    "df.groupby('Source').size().plot(kind = 'barh', \n",
    "                                 color = 'salmon',\n",
    "                                 edgecolor = 'r',\n",
    "                                 linewidth = 0.8,\n",
    "                                 width = 0.2,\n",
    "                                 align = 'center',\n",
    "                                xerr=np.std(df.groupby('Source').size()),\n",
    "                                 grid = True)\n",
    "ax.set_title('Reporting\\nSource', fontsize=22);"
   ]
  },
  {
   "cell_type": "code",
   "execution_count": 38,
   "metadata": {},
   "outputs": [
    {
     "name": "stderr",
     "output_type": "stream",
     "text": [
      "/opt/anaconda3/lib/python3.7/site-packages/pandas/plotting/_matplotlib/core.py:231: UserWarning:\n",
      "\n",
      "'color' and 'colormap' cannot be used simultaneously. Using 'color'\n",
      "\n",
      "/opt/anaconda3/lib/python3.7/site-packages/pandas/plotting/_matplotlib/style.py:28: UserWarning:\n",
      "\n",
      "'color' and 'colormap' cannot be used simultaneously. Using 'color'\n",
      "\n"
     ]
    },
    {
     "data": {
      "image/png": "[encoded data removed]",
      "text/plain": [
       "<Figure size 864x576 with 1 Axes>"
      ]
     },
     "metadata": {
      "needs_background": "light"
     },
     "output_type": "display_data"
    }
   ],
   "source": [
    "fig, ax = plt.subplots(figsize=(12,8))\n",
    "accidents_state = df.groupby('State').size()\n",
    "\n",
    "accidents_state = accidents_state.sort_values(ascending=False)[:20]\n",
    "\n",
    "accidents_state.plot(\n",
    "    kind = 'bar',\n",
    "    colormap='Spectral',\n",
    "    linewidth = 1,\n",
    "    width = 0.8,\n",
    "    color = 'orange',\n",
    "    align = 'center',\n",
    ")\n",
    "\n",
    "plt.ylabel('Number of Accidents')\n",
    "\n",
    "ax.grid(linestyle=':', linewidth = '0.2')\n",
    "ax.spines['left'].set_visible(True)\n",
    "ax.spines['right'].set_visible(False)\n",
    "ax.spines['top'].set_visible(False)\n",
    "ax.spines['bottom'].set_visible(False);"
   ]
  },
  {
   "cell_type": "code",
   "execution_count": null,
   "metadata": {},
   "outputs": [],
   "source": []
  }
 ],
 "metadata": {
  "kernelspec": {
   "display_name": "Python 3",
   "language": "python",
   "name": "python3"
  },
  "language_info": {
   "codemirror_mode": {
    "name": "ipython",
    "version": 3
   },
   "file_extension": ".py",
   "mimetype": "text/x-python",
   "name": "python",
   "nbconvert_exporter": "python",
   "pygments_lexer": "ipython3",
   "version": "3.7.4"
  }
 },
 "nbformat": 4,
 "nbformat_minor": 2
}
