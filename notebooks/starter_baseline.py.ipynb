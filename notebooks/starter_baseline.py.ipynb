{
 "cells": [
  {
   "cell_type": "code",
   "execution_count": 1,
   "metadata": {},
   "outputs": [],
   "source": [
    "from mpl_toolkits.mplot3d import Axes3D\n",
    "from sklearn.preprocessing import StandardScaler\n",
    "import matplotlib.pyplot as plt # plotting\n",
    "import numpy as np # linear algebra\n",
    "import os # accessing directory structure\n",
    "import pandas as pd # data processing, CSV file I/O (e.g. pd.read_csv)\n",
    "from src.dataset import load_dataset\n",
    "import altair as alt"
   ]
  },
  {
   "cell_type": "code",
   "execution_count": 2,
   "metadata": {},
   "outputs": [
    {
     "name": "stdout",
     "output_type": "stream",
     "text": [
      "<class 'pandas.core.frame.DataFrame'>\n",
      "RangeIndex: 2974335 entries, 0 to 2974334\n",
      "Data columns (total 49 columns):\n",
      "ID                       object\n",
      "Source                   object\n",
      "TMC                      float64\n",
      "Severity                 int64\n",
      "Start_Time               object\n",
      "End_Time                 object\n",
      "Start_Lat                float64\n",
      "Start_Lng                float64\n",
      "End_Lat                  float64\n",
      "End_Lng                  float64\n",
      "Distance(mi)             float64\n",
      "Description              object\n",
      "Number                   float64\n",
      "Street                   object\n",
      "Side                     object\n",
      "City                     object\n",
      "County                   object\n",
      "State                    object\n",
      "Zipcode                  object\n",
      "Country                  object\n",
      "Timezone                 object\n",
      "Airport_Code             object\n",
      "Weather_Timestamp        object\n",
      "Temperature(F)           float64\n",
      "Wind_Chill(F)            float64\n",
      "Humidity(%)              float64\n",
      "Pressure(in)             float64\n",
      "Visibility(mi)           float64\n",
      "Wind_Direction           object\n",
      "Wind_Speed(mph)          float64\n",
      "Precipitation(in)        float64\n",
      "Weather_Condition        object\n",
      "Amenity                  bool\n",
      "Bump                     bool\n",
      "Crossing                 bool\n",
      "Give_Way                 bool\n",
      "Junction                 bool\n",
      "No_Exit                  bool\n",
      "Railway                  bool\n",
      "Roundabout               bool\n",
      "Station                  bool\n",
      "Stop                     bool\n",
      "Traffic_Calming          bool\n",
      "Traffic_Signal           bool\n",
      "Turning_Loop             bool\n",
      "Sunrise_Sunset           object\n",
      "Civil_Twilight           object\n",
      "Nautical_Twilight        object\n",
      "Astronomical_Twilight    object\n",
      "dtypes: bool(13), float64(14), int64(1), object(21)\n",
      "memory usage: 853.8+ MB\n"
     ]
    }
   ],
   "source": [
    "df = load_dataset()\n",
    "\n",
    "df.info()"
   ]
  },
  {
   "cell_type": "code",
   "execution_count": 3,
   "metadata": {},
   "outputs": [],
   "source": [
    "df_state = df[df['State'] == 'CA']"
   ]
  },
  {
   "cell_type": "code",
   "execution_count": 4,
   "metadata": {},
   "outputs": [
    {
     "name": "stderr",
     "output_type": "stream",
     "text": [
      "/opt/anaconda3/lib/python3.7/site-packages/ipykernel_launcher.py:2: SettingWithCopyWarning: \n",
      "A value is trying to be set on a copy of a slice from a DataFrame.\n",
      "Try using .loc[row_indexer,col_indexer] = value instead\n",
      "\n",
      "See the caveats in the documentation: http://pandas.pydata.org/pandas-docs/stable/user_guide/indexing.html#returning-a-view-versus-a-copy\n",
      "  \n",
      "/opt/anaconda3/lib/python3.7/site-packages/ipykernel_launcher.py:3: SettingWithCopyWarning: \n",
      "A value is trying to be set on a copy of a slice from a DataFrame.\n",
      "Try using .loc[row_indexer,col_indexer] = value instead\n",
      "\n",
      "See the caveats in the documentation: http://pandas.pydata.org/pandas-docs/stable/user_guide/indexing.html#returning-a-view-versus-a-copy\n",
      "  This is separate from the ipykernel package so we can avoid doing imports until\n",
      "/opt/anaconda3/lib/python3.7/site-packages/ipykernel_launcher.py:6: SettingWithCopyWarning: \n",
      "A value is trying to be set on a copy of a slice from a DataFrame.\n",
      "Try using .loc[row_indexer,col_indexer] = value instead\n",
      "\n",
      "See the caveats in the documentation: http://pandas.pydata.org/pandas-docs/stable/user_guide/indexing.html#returning-a-view-versus-a-copy\n",
      "  \n",
      "/opt/anaconda3/lib/python3.7/site-packages/ipykernel_launcher.py:7: SettingWithCopyWarning: \n",
      "A value is trying to be set on a copy of a slice from a DataFrame.\n",
      "Try using .loc[row_indexer,col_indexer] = value instead\n",
      "\n",
      "See the caveats in the documentation: http://pandas.pydata.org/pandas-docs/stable/user_guide/indexing.html#returning-a-view-versus-a-copy\n",
      "  import sys\n",
      "/opt/anaconda3/lib/python3.7/site-packages/ipykernel_launcher.py:8: SettingWithCopyWarning: \n",
      "A value is trying to be set on a copy of a slice from a DataFrame.\n",
      "Try using .loc[row_indexer,col_indexer] = value instead\n",
      "\n",
      "See the caveats in the documentation: http://pandas.pydata.org/pandas-docs/stable/user_guide/indexing.html#returning-a-view-versus-a-copy\n",
      "  \n",
      "/opt/anaconda3/lib/python3.7/site-packages/ipykernel_launcher.py:9: SettingWithCopyWarning: \n",
      "A value is trying to be set on a copy of a slice from a DataFrame.\n",
      "Try using .loc[row_indexer,col_indexer] = value instead\n",
      "\n",
      "See the caveats in the documentation: http://pandas.pydata.org/pandas-docs/stable/user_guide/indexing.html#returning-a-view-versus-a-copy\n",
      "  if __name__ == '__main__':\n",
      "/opt/anaconda3/lib/python3.7/site-packages/ipykernel_launcher.py:10: SettingWithCopyWarning: \n",
      "A value is trying to be set on a copy of a slice from a DataFrame.\n",
      "Try using .loc[row_indexer,col_indexer] = value instead\n",
      "\n",
      "See the caveats in the documentation: http://pandas.pydata.org/pandas-docs/stable/user_guide/indexing.html#returning-a-view-versus-a-copy\n",
      "  # Remove the CWD from sys.path while we load stuff.\n",
      "/opt/anaconda3/lib/python3.7/site-packages/ipykernel_launcher.py:14: SettingWithCopyWarning: \n",
      "A value is trying to be set on a copy of a slice from a DataFrame.\n",
      "Try using .loc[row_indexer,col_indexer] = value instead\n",
      "\n",
      "See the caveats in the documentation: http://pandas.pydata.org/pandas-docs/stable/user_guide/indexing.html#returning-a-view-versus-a-copy\n",
      "  \n"
     ]
    },
    {
     "name": "stdout",
     "output_type": "stream",
     "text": [
      "<class 'pandas.core.frame.DataFrame'>\n",
      "Int64Index: 663204 entries, 728 to 2974334\n",
      "Data columns (total 55 columns):\n",
      "ID                       663204 non-null object\n",
      "Source                   663204 non-null object\n",
      "TMC                      449296 non-null float64\n",
      "Severity                 663204 non-null int64\n",
      "Start_Time               663204 non-null datetime64[ns]\n",
      "End_Time                 663204 non-null datetime64[ns]\n",
      "Start_Lat                663204 non-null float64\n",
      "Start_Lng                663204 non-null float64\n",
      "End_Lat                  213908 non-null float64\n",
      "End_Lng                  213908 non-null float64\n",
      "Distance(mi)             663204 non-null float64\n",
      "Description              663204 non-null object\n",
      "Number                   139891 non-null float64\n",
      "Street                   663204 non-null object\n",
      "Side                     663204 non-null object\n",
      "City                     663198 non-null object\n",
      "County                   663204 non-null object\n",
      "State                    663204 non-null object\n",
      "Zipcode                  662999 non-null object\n",
      "Country                  663204 non-null object\n",
      "Timezone                 662999 non-null object\n",
      "Airport_Code             662991 non-null object\n",
      "Weather_Timestamp        653807 non-null object\n",
      "Temperature(F)           648079 non-null float64\n",
      "Wind_Chill(F)            191385 non-null float64\n",
      "Humidity(%)              646890 non-null float64\n",
      "Pressure(in)             651962 non-null float64\n",
      "Visibility(mi)           650008 non-null float64\n",
      "Wind_Direction           651056 non-null object\n",
      "Wind_Speed(mph)          534398 non-null float64\n",
      "Precipitation(in)        195589 non-null float64\n",
      "Weather_Condition        650323 non-null object\n",
      "Amenity                  663204 non-null bool\n",
      "Bump                     663204 non-null bool\n",
      "Crossing                 663204 non-null bool\n",
      "Give_Way                 663204 non-null bool\n",
      "Junction                 663204 non-null bool\n",
      "No_Exit                  663204 non-null bool\n",
      "Railway                  663204 non-null bool\n",
      "Roundabout               663204 non-null bool\n",
      "Station                  663204 non-null bool\n",
      "Stop                     663204 non-null bool\n",
      "Traffic_Calming          663204 non-null bool\n",
      "Traffic_Signal           663204 non-null bool\n",
      "Turning_Loop             663204 non-null bool\n",
      "Sunrise_Sunset           663198 non-null object\n",
      "Civil_Twilight           663198 non-null object\n",
      "Nautical_Twilight        663198 non-null object\n",
      "Astronomical_Twilight    663198 non-null object\n",
      "Year                     663204 non-null int64\n",
      "Month                    663204 non-null object\n",
      "Day                      663204 non-null int64\n",
      "Hour                     663204 non-null int64\n",
      "Weekday                  663204 non-null object\n",
      "Time_Duration(min)       663204 non-null float64\n",
      "dtypes: bool(13), datetime64[ns](2), float64(15), int64(4), object(21)\n",
      "memory usage: 225.8+ MB\n"
     ]
    }
   ],
   "source": [
    "# Convert Start_Time and End_Time to datetypes\n",
    "df_state['Start_Time'] = pd.to_datetime(df_state['Start_Time'], errors='coerce')\n",
    "df_state['End_Time'] = pd.to_datetime(df_state['End_Time'], errors='coerce')\n",
    "\n",
    "# Extract year, month, day, hour and weekday\n",
    "df_state['Year']=df_state['Start_Time'].dt.year\n",
    "df_state['Month']=df_state['Start_Time'].dt.strftime('%b')\n",
    "df_state['Day']=df_state['Start_Time'].dt.day\n",
    "df_state['Hour']=df_state['Start_Time'].dt.hour\n",
    "df_state['Weekday']=df_state['Start_Time'].dt.strftime('%a')\n",
    "\n",
    "# Extract the amount of time in the unit of minutes for each accident, round to the nearest integer\n",
    "td='Time_Duration(min)'\n",
    "df_state[td]=round((df_state['End_Time']-df_state['Start_Time'])/np.timedelta64(1,'m'))\n",
    "df_state.info()"
   ]
  },
  {
   "cell_type": "code",
   "execution_count": 5,
   "metadata": {},
   "outputs": [
    {
     "data": {
      "text/plain": [
       "69719      -0.0\n",
       "69720      -0.0\n",
       "69721      -0.0\n",
       "69722      -1.0\n",
       "69723      -1.0\n",
       "628942     -0.0\n",
       "628943    -30.0\n",
       "1265261   -30.0\n",
       "1265262   -31.0\n",
       "2002111   -30.0\n",
       "2002112   -31.0\n",
       "2565705    -7.0\n",
       "2565708    -7.0\n",
       "Name: Time_Duration(min), dtype: float64"
      ]
     },
     "execution_count": 5,
     "metadata": {},
     "output_type": "execute_result"
    }
   ],
   "source": [
    "df_state[td][df_state[td]<=0]"
   ]
  },
  {
   "cell_type": "code",
   "execution_count": 6,
   "metadata": {},
   "outputs": [
    {
     "name": "stderr",
     "output_type": "stream",
     "text": [
      "/opt/anaconda3/lib/python3.7/site-packages/ipykernel_launcher.py:6: SettingWithCopyWarning: \n",
      "A value is trying to be set on a copy of a slice from a DataFrame.\n",
      "Try using .loc[row_indexer,col_indexer] = value instead\n",
      "\n",
      "See the caveats in the documentation: http://pandas.pydata.org/pandas-docs/stable/user_guide/indexing.html#returning-a-view-versus-a-copy\n",
      "  \n",
      "/opt/anaconda3/lib/python3.7/site-packages/pandas/core/indexing.py:494: SettingWithCopyWarning: \n",
      "A value is trying to be set on a copy of a slice from a DataFrame.\n",
      "Try using .loc[row_indexer,col_indexer] = value instead\n",
      "\n",
      "See the caveats in the documentation: http://pandas.pydata.org/pandas-docs/stable/user_guide/indexing.html#returning-a-view-versus-a-copy\n",
      "  self.obj[item] = s\n",
      "/opt/anaconda3/lib/python3.7/site-packages/ipykernel_launcher.py:9: SettingWithCopyWarning: \n",
      "A value is trying to be set on a copy of a slice from a DataFrame\n",
      "\n",
      "See the caveats in the documentation: http://pandas.pydata.org/pandas-docs/stable/user_guide/indexing.html#returning-a-view-versus-a-copy\n",
      "  if __name__ == '__main__':\n"
     ]
    },
    {
     "name": "stdout",
     "output_type": "stream",
     "text": [
      "<class 'pandas.core.frame.DataFrame'>\n",
      "Int64Index: 663191 entries, 728 to 2974334\n",
      "Data columns (total 55 columns):\n",
      "ID                       663191 non-null object\n",
      "Source                   663191 non-null object\n",
      "TMC                      449285 non-null float64\n",
      "Severity                 663191 non-null float64\n",
      "Start_Time               663191 non-null datetime64[ns]\n",
      "End_Time                 663191 non-null datetime64[ns]\n",
      "Start_Lat                663191 non-null float64\n",
      "Start_Lng                663191 non-null float64\n",
      "End_Lat                  213906 non-null float64\n",
      "End_Lng                  213906 non-null float64\n",
      "Distance(mi)             663191 non-null float64\n",
      "Description              663191 non-null object\n",
      "Number                   139887 non-null float64\n",
      "Street                   663191 non-null object\n",
      "Side                     663191 non-null object\n",
      "City                     663185 non-null object\n",
      "County                   663191 non-null object\n",
      "State                    663191 non-null object\n",
      "Zipcode                  662986 non-null object\n",
      "Country                  663191 non-null object\n",
      "Timezone                 662986 non-null object\n",
      "Airport_Code             662978 non-null object\n",
      "Weather_Timestamp        653794 non-null object\n",
      "Temperature(F)           648066 non-null float64\n",
      "Wind_Chill(F)            191381 non-null float64\n",
      "Humidity(%)              646877 non-null float64\n",
      "Pressure(in)             651949 non-null float64\n",
      "Visibility(mi)           649995 non-null float64\n",
      "Wind_Direction           651043 non-null object\n",
      "Wind_Speed(mph)          534391 non-null float64\n",
      "Precipitation(in)        195586 non-null float64\n",
      "Weather_Condition        650310 non-null object\n",
      "Amenity                  663191 non-null float64\n",
      "Bump                     663191 non-null float64\n",
      "Crossing                 663191 non-null float64\n",
      "Give_Way                 663191 non-null float64\n",
      "Junction                 663191 non-null float64\n",
      "No_Exit                  663191 non-null float64\n",
      "Railway                  663191 non-null float64\n",
      "Roundabout               663191 non-null float64\n",
      "Station                  663191 non-null float64\n",
      "Stop                     663191 non-null float64\n",
      "Traffic_Calming          663191 non-null float64\n",
      "Traffic_Signal           663191 non-null float64\n",
      "Turning_Loop             663191 non-null float64\n",
      "Sunrise_Sunset           663185 non-null object\n",
      "Civil_Twilight           663185 non-null object\n",
      "Nautical_Twilight        663185 non-null object\n",
      "Astronomical_Twilight    663185 non-null object\n",
      "Year                     663191 non-null float64\n",
      "Month                    663191 non-null object\n",
      "Day                      663191 non-null float64\n",
      "Hour                     663191 non-null float64\n",
      "Weekday                  663191 non-null object\n",
      "Time_Duration(min)       663191 non-null float64\n",
      "dtypes: datetime64[ns](2), float64(32), object(21)\n",
      "memory usage: 283.3+ MB\n"
     ]
    }
   ],
   "source": [
    "# Drop the rows with td<0\n",
    "\n",
    "neg_outliers=df_state[td]<=0\n",
    "\n",
    "# Set outliers to NAN\n",
    "df_state[neg_outliers] = np.nan\n",
    "\n",
    "# Drop rows with negative td\n",
    "df_state.dropna(subset=[td],axis=0,inplace=True)\n",
    "df_state.info()"
   ]
  },
  {
   "cell_type": "code",
   "execution_count": 7,
   "metadata": {},
   "outputs": [
    {
     "data": {
      "text/plain": [
       "Series([], Name: Time_Duration(min), dtype: float64)"
      ]
     },
     "execution_count": 7,
     "metadata": {},
     "output_type": "execute_result"
    }
   ],
   "source": [
    "# Double check to make sure no more negative td\n",
    "df_state[td][df_state[td]<=0]"
   ]
  },
  {
   "cell_type": "markdown",
   "metadata": {},
   "source": [
    "# Remove Outliers"
   ]
  },
  {
   "cell_type": "code",
   "execution_count": 8,
   "metadata": {},
   "outputs": [
    {
     "name": "stderr",
     "output_type": "stream",
     "text": [
      "/opt/anaconda3/lib/python3.7/site-packages/ipykernel_launcher.py:8: SettingWithCopyWarning: \n",
      "A value is trying to be set on a copy of a slice from a DataFrame.\n",
      "Try using .loc[row_indexer,col_indexer] = value instead\n",
      "\n",
      "See the caveats in the documentation: http://pandas.pydata.org/pandas-docs/stable/user_guide/indexing.html#returning-a-view-versus-a-copy\n",
      "  \n",
      "/opt/anaconda3/lib/python3.7/site-packages/pandas/core/generic.py:6287: SettingWithCopyWarning: \n",
      "A value is trying to be set on a copy of a slice from a DataFrame\n",
      "\n",
      "See the caveats in the documentation: http://pandas.pydata.org/pandas-docs/stable/user_guide/indexing.html#returning-a-view-versus-a-copy\n",
      "  self._update_inplace(new_data)\n"
     ]
    },
    {
     "name": "stdout",
     "output_type": "stream",
     "text": [
      "<class 'pandas.core.frame.DataFrame'>\n",
      "Int64Index: 663191 entries, 728 to 2974334\n",
      "Data columns (total 55 columns):\n",
      "ID                       663138 non-null object\n",
      "Source                   663138 non-null object\n",
      "TMC                      449283 non-null float64\n",
      "Severity                 663138 non-null float64\n",
      "Start_Time               663138 non-null datetime64[ns]\n",
      "End_Time                 663138 non-null datetime64[ns]\n",
      "Start_Lat                663138 non-null float64\n",
      "Start_Lng                663138 non-null float64\n",
      "End_Lat                  213855 non-null float64\n",
      "End_Lng                  213855 non-null float64\n",
      "Distance(mi)             663138 non-null float64\n",
      "Description              663138 non-null object\n",
      "Number                   139862 non-null float64\n",
      "Street                   663138 non-null object\n",
      "Side                     663138 non-null object\n",
      "City                     663132 non-null object\n",
      "County                   663138 non-null object\n",
      "State                    663138 non-null object\n",
      "Zipcode                  662933 non-null object\n",
      "Country                  663138 non-null object\n",
      "Timezone                 662933 non-null object\n",
      "Airport_Code             662925 non-null object\n",
      "Weather_Timestamp        653742 non-null object\n",
      "Temperature(F)           648014 non-null float64\n",
      "Wind_Chill(F)            191354 non-null float64\n",
      "Humidity(%)              646825 non-null float64\n",
      "Pressure(in)             651897 non-null float64\n",
      "Visibility(mi)           649943 non-null float64\n",
      "Wind_Direction           650991 non-null object\n",
      "Wind_Speed(mph)          534345 non-null float64\n",
      "Precipitation(in)        195558 non-null float64\n",
      "Weather_Condition        650258 non-null object\n",
      "Amenity                  663138 non-null float64\n",
      "Bump                     663138 non-null float64\n",
      "Crossing                 663138 non-null float64\n",
      "Give_Way                 663138 non-null float64\n",
      "Junction                 663138 non-null float64\n",
      "No_Exit                  663138 non-null float64\n",
      "Railway                  663138 non-null float64\n",
      "Roundabout               663138 non-null float64\n",
      "Station                  663138 non-null float64\n",
      "Stop                     663138 non-null float64\n",
      "Traffic_Calming          663138 non-null float64\n",
      "Traffic_Signal           663138 non-null float64\n",
      "Turning_Loop             663138 non-null float64\n",
      "Sunrise_Sunset           663132 non-null object\n",
      "Civil_Twilight           663132 non-null object\n",
      "Nautical_Twilight        663132 non-null object\n",
      "Astronomical_Twilight    663132 non-null object\n",
      "Year                     663138 non-null float64\n",
      "Month                    663138 non-null object\n",
      "Day                      663138 non-null float64\n",
      "Hour                     663138 non-null float64\n",
      "Weekday                  663138 non-null object\n",
      "Time_Duration(min)       663191 non-null float64\n",
      "dtypes: datetime64[ns](2), float64(32), object(21)\n",
      "memory usage: 283.3+ MB\n"
     ]
    }
   ],
   "source": [
    "n=3\n",
    "\n",
    "median = df_state[td].median()\n",
    "std = df_state[td].std()\n",
    "outliers = (df_state[td] - median).abs() > std*n\n",
    "\n",
    "# Set outliers to NAN\n",
    "df_state[outliers] = np.nan\n",
    "\n",
    "# Fill NAN with median\n",
    "df_state[td].fillna(median, inplace=True)\n",
    "df_state.info()"
   ]
  },
  {
   "cell_type": "code",
   "execution_count": 10,
   "metadata": {},
   "outputs": [],
   "source": [
    "feature_lst=['Source','TMC','Severity','Start_Lng','Start_Lat','Distance(mi)','Side','City','County','State','Timezone','Temperature(F)','Humidity(%)','Pressure(in)', 'Visibility(mi)', 'Wind_Direction','Weather_Condition','Amenity','Bump','Crossing','Give_Way','Junction','No_Exit','Railway','Roundabout','Station','Stop','Traffic_Calming','Traffic_Signal','Turning_Loop','Sunrise_Sunset','Hour','Weekday', 'Time_Duration(min)']"
   ]
  },
  {
   "cell_type": "code",
   "execution_count": 11,
   "metadata": {},
   "outputs": [
    {
     "name": "stdout",
     "output_type": "stream",
     "text": [
      "<class 'pandas.core.frame.DataFrame'>\n",
      "Int64Index: 663191 entries, 728 to 2974334\n",
      "Data columns (total 34 columns):\n",
      "Source                663138 non-null object\n",
      "TMC                   449283 non-null float64\n",
      "Severity              663138 non-null float64\n",
      "Start_Lng             663138 non-null float64\n",
      "Start_Lat             663138 non-null float64\n",
      "Distance(mi)          663138 non-null float64\n",
      "Side                  663138 non-null object\n",
      "City                  663132 non-null object\n",
      "County                663138 non-null object\n",
      "State                 663138 non-null object\n",
      "Timezone              662933 non-null object\n",
      "Temperature(F)        648014 non-null float64\n",
      "Humidity(%)           646825 non-null float64\n",
      "Pressure(in)          651897 non-null float64\n",
      "Visibility(mi)        649943 non-null float64\n",
      "Wind_Direction        650991 non-null object\n",
      "Weather_Condition     650258 non-null object\n",
      "Amenity               663138 non-null float64\n",
      "Bump                  663138 non-null float64\n",
      "Crossing              663138 non-null float64\n",
      "Give_Way              663138 non-null float64\n",
      "Junction              663138 non-null float64\n",
      "No_Exit               663138 non-null float64\n",
      "Railway               663138 non-null float64\n",
      "Roundabout            663138 non-null float64\n",
      "Station               663138 non-null float64\n",
      "Stop                  663138 non-null float64\n",
      "Traffic_Calming       663138 non-null float64\n",
      "Traffic_Signal        663138 non-null float64\n",
      "Turning_Loop          663138 non-null float64\n",
      "Sunrise_Sunset        663132 non-null object\n",
      "Hour                  663138 non-null float64\n",
      "Weekday               663138 non-null object\n",
      "Time_Duration(min)    663191 non-null float64\n",
      "dtypes: float64(24), object(10)\n",
      "memory usage: 177.1+ MB\n"
     ]
    }
   ],
   "source": [
    "# Select the dataset to include only the selected features\n",
    "df_state_sel=df_state[feature_lst].copy()\n",
    "df_state_sel.info()"
   ]
  },
  {
   "cell_type": "code",
   "execution_count": 12,
   "metadata": {},
   "outputs": [
    {
     "data": {
      "text/plain": [
       "Source                0.000080\n",
       "TMC                   0.322544\n",
       "Severity              0.000080\n",
       "Start_Lng             0.000080\n",
       "Start_Lat             0.000080\n",
       "Distance(mi)          0.000080\n",
       "Side                  0.000080\n",
       "City                  0.000089\n",
       "County                0.000080\n",
       "State                 0.000080\n",
       "Timezone              0.000389\n",
       "Temperature(F)        0.022885\n",
       "Humidity(%)           0.024678\n",
       "Pressure(in)          0.017030\n",
       "Visibility(mi)        0.019976\n",
       "Wind_Direction        0.018396\n",
       "Weather_Condition     0.019501\n",
       "Amenity               0.000080\n",
       "Bump                  0.000080\n",
       "Crossing              0.000080\n",
       "Give_Way              0.000080\n",
       "Junction              0.000080\n",
       "No_Exit               0.000080\n",
       "Railway               0.000080\n",
       "Roundabout            0.000080\n",
       "Station               0.000080\n",
       "Stop                  0.000080\n",
       "Traffic_Calming       0.000080\n",
       "Traffic_Signal        0.000080\n",
       "Turning_Loop          0.000080\n",
       "Sunrise_Sunset        0.000089\n",
       "Hour                  0.000080\n",
       "Weekday               0.000080\n",
       "Time_Duration(min)    0.000000\n",
       "dtype: float64"
      ]
     },
     "execution_count": 12,
     "metadata": {},
     "output_type": "execute_result"
    }
   ],
   "source": [
    "# Check missing values\n",
    "df_state_sel.isnull().mean()"
   ]
  },
  {
   "cell_type": "code",
   "execution_count": 19,
   "metadata": {},
   "outputs": [
    {
     "data": {
      "image/png": "[encoded data removed]",
      "text/plain": [
       "<Figure size 432x288 with 1 Axes>"
      ]
     },
     "metadata": {
      "needs_background": "light"
     },
     "output_type": "display_data"
    }
   ],
   "source": [
    "# Map of accidents, color code by county\n",
    "import seaborn as sns\n",
    "\n",
    "sns.scatterplot(x='Start_Lng', y='Start_Lat', data=df, hue='County', legend=False, s=20)\n",
    "# Set x-axis label\n",
    "plt.xlabel('Longitude')\n",
    "# Set y-axis label\n",
    "plt.ylabel('Latitude')\n",
    "plt.show()"
   ]
  },
  {
   "cell_type": "code",
   "execution_count": 21,
   "metadata": {},
   "outputs": [],
   "source": [
    "# Import KNeighborsClassifier from sklearn.neighbors\n",
    "from sklearn.neighbors import KNeighborsClassifier\n",
    "\n",
    "# Import DecisionTreeClassifier from sklearn.tree\n",
    "from sklearn.tree import DecisionTreeClassifier\n",
    "\n",
    "# Import RandomForestClassifier\n",
    "from sklearn.ensemble import RandomForestClassifier\n",
    "\n",
    "# Import LogisticRegression\n",
    "from sklearn.linear_model import LogisticRegression\n",
    "\n",
    "from sklearn.model_selection import train_test_split\n",
    "from sklearn.model_selection import GridSearchCV\n",
    "from sklearn.feature_selection import SelectFromModel\n",
    "from sklearn.metrics import classification_report\n",
    "from sklearn.metrics import confusion_matrix\n",
    "from sklearn.metrics import accuracy_score\n",
    "from sklearn.metrics import roc_curve, auc"
   ]
  },
  {
   "cell_type": "code",
   "execution_count": null,
   "metadata": {},
   "outputs": [],
   "source": [
    "df_state = df # Generate dummies for categorical data\n",
    "df_state_dummy = pd.get_dummies(df_state, drop_first=True)\n",
    "\n",
    "df_state_dummy.info()"
   ]
  },
  {
   "cell_type": "code",
   "execution_count": null,
   "metadata": {},
   "outputs": [],
   "source": [
    "# Assign the data\n",
    "df=df_state_dummy"
   ]
  },
  {
   "cell_type": "code",
   "execution_count": null,
   "metadata": {},
   "outputs": [],
   "source": [
    "# Set the target for the prediction\n",
    "target='Severity'\n",
    "\n",
    "# Create arrays for the features and the response variable\n",
    "\n",
    "# set X and y\n",
    "y = df[target]\n",
    "X = df.drop(target, axis=1)\n",
    "\n",
    "# Split the data set into training and testing data sets\n",
    "X_train, X_test, y_train, y_test = train_test_split(X, y, test_size=0.2, random_state=21, stratify=y)"
   ]
  },
  {
   "cell_type": "code",
   "execution_count": null,
   "metadata": {},
   "outputs": [],
   "source": []
  }
 ],
 "metadata": {
  "kernelspec": {
   "display_name": "Python 3",
   "language": "python",
   "name": "python3"
  },
  "language_info": {
   "codemirror_mode": {
    "name": "ipython",
    "version": 3
   },
   "file_extension": ".py",
   "mimetype": "text/x-python",
   "name": "python",
   "nbconvert_exporter": "python",
   "pygments_lexer": "ipython3",
   "version": "3.7.4"
  }
 },
 "nbformat": 4,
 "nbformat_minor": 2
}
