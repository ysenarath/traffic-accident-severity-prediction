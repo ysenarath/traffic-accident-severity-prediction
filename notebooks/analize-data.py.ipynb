{
 "cells": [
  {
   "cell_type": "code",
   "execution_count": 42,
   "metadata": {
    "pycharm": {
     "is_executing": false
    }
   },
   "outputs": [],
   "source": [
    "from src.dataset import load_dataset\n",
    "import pandas as pd\n",
    "import altair as alt"
   ]
  },
  {
   "cell_type": "code",
   "execution_count": null,
   "metadata": {
    "pycharm": {
     "name": "#%%\n"
    }
   },
   "outputs": [],
   "source": [
    "df = load_dataset()"
   ]
  },
  {
   "cell_type": "code",
   "execution_count": 54,
   "metadata": {},
   "outputs": [
    {
     "data": {
      "text/plain": [
       "(2974335, 49)"
      ]
     },
     "execution_count": 54,
     "metadata": {},
     "output_type": "execute_result"
    }
   ],
   "source": [
    "df.shape # 3M"
   ]
  },
  {
   "cell_type": "code",
   "execution_count": 77,
   "metadata": {},
   "outputs": [],
   "source": [
    "df_sample = df[:10000]"
   ]
  },
  {
   "cell_type": "code",
   "execution_count": 78,
   "metadata": {},
   "outputs": [
    {
     "name": "stdout",
     "output_type": "stream",
     "text": [
      "    ID    Source    TMC  Severity           Start_Time             End_Time  \\\n",
      "0  A-1  MapQuest  201.0         3  2016-02-08 05:46:00  2016-02-08 11:00:00   \n",
      "1  A-2  MapQuest  201.0         2  2016-02-08 06:07:59  2016-02-08 06:37:59   \n",
      "2  A-3  MapQuest  201.0         2  2016-02-08 06:49:27  2016-02-08 07:19:27   \n",
      "3  A-4  MapQuest  201.0         3  2016-02-08 07:23:34  2016-02-08 07:53:34   \n",
      "4  A-5  MapQuest  201.0         2  2016-02-08 07:39:07  2016-02-08 08:09:07   \n",
      "\n",
      "   Start_Lat  Start_Lng  End_Lat  End_Lng  ...  Roundabout Station   Stop  \\\n",
      "0  39.865147 -84.058723      NaN      NaN  ...       False   False  False   \n",
      "1  39.928059 -82.831184      NaN      NaN  ...       False   False  False   \n",
      "2  39.063148 -84.032608      NaN      NaN  ...       False   False  False   \n",
      "3  39.747753 -84.205582      NaN      NaN  ...       False   False  False   \n",
      "4  39.627781 -84.188354      NaN      NaN  ...       False   False  False   \n",
      "\n",
      "  Traffic_Calming Traffic_Signal Turning_Loop Sunrise_Sunset Civil_Twilight  \\\n",
      "0           False          False        False          Night          Night   \n",
      "1           False          False        False          Night          Night   \n",
      "2           False           True        False          Night          Night   \n",
      "3           False          False        False          Night            Day   \n",
      "4           False           True        False            Day            Day   \n",
      "\n",
      "  Nautical_Twilight Astronomical_Twilight  \n",
      "0             Night                 Night  \n",
      "1             Night                   Day  \n",
      "2               Day                   Day  \n",
      "3               Day                   Day  \n",
      "4               Day                   Day  \n",
      "\n",
      "[5 rows x 49 columns]\n"
     ]
    }
   ],
   "source": [
    "print(df_sample.head())"
   ]
  },
  {
   "cell_type": "code",
   "execution_count": 79,
   "metadata": {},
   "outputs": [
    {
     "data": {
      "text/plain": [
       "Index(['ID', 'Source', 'TMC', 'Severity', 'Start_Time', 'End_Time',\n",
       "       'Start_Lat', 'Start_Lng', 'End_Lat', 'End_Lng', 'Distance(mi)',\n",
       "       'Description', 'Number', 'Street', 'Side', 'City', 'County', 'State',\n",
       "       'Zipcode', 'Country', 'Timezone', 'Airport_Code', 'Weather_Timestamp',\n",
       "       'Temperature(F)', 'Wind_Chill(F)', 'Humidity(%)', 'Pressure(in)',\n",
       "       'Visibility(mi)', 'Wind_Direction', 'Wind_Speed(mph)',\n",
       "       'Precipitation(in)', 'Weather_Condition', 'Amenity', 'Bump', 'Crossing',\n",
       "       'Give_Way', 'Junction', 'No_Exit', 'Railway', 'Roundabout', 'Station',\n",
       "       'Stop', 'Traffic_Calming', 'Traffic_Signal', 'Turning_Loop',\n",
       "       'Sunrise_Sunset', 'Civil_Twilight', 'Nautical_Twilight',\n",
       "       'Astronomical_Twilight'],\n",
       "      dtype='object')"
      ]
     },
     "execution_count": 79,
     "metadata": {},
     "output_type": "execute_result"
    }
   ],
   "source": [
    "df_sample.columns"
   ]
  },
  {
   "cell_type": "code",
   "execution_count": 80,
   "metadata": {},
   "outputs": [],
   "source": [
    "df_sample.loc[:, 'Start_Time'] = pd.to_datetime(df_sample.Start_Time)\n",
    "df_sample.loc[:, 'End_Time'] = pd.to_datetime(df_sample.End_Time)"
   ]
  },
  {
   "cell_type": "code",
   "execution_count": 81,
   "metadata": {},
   "outputs": [
    {
     "data": {
      "text/html": [
       "<div>\n",
       "<style scoped>\n",
       "    .dataframe tbody tr th:only-of-type {\n",
       "        vertical-align: middle;\n",
       "    }\n",
       "\n",
       "    .dataframe tbody tr th {\n",
       "        vertical-align: top;\n",
       "    }\n",
       "\n",
       "    .dataframe thead th {\n",
       "        text-align: right;\n",
       "    }\n",
       "</style>\n",
       "<table border=\"1\" class=\"dataframe\">\n",
       "  <thead>\n",
       "    <tr style=\"text-align: right;\">\n",
       "      <th></th>\n",
       "      <th>TMC</th>\n",
       "      <th>Severity</th>\n",
       "      <th>Start_Lat</th>\n",
       "      <th>Start_Lng</th>\n",
       "      <th>End_Lat</th>\n",
       "      <th>End_Lng</th>\n",
       "      <th>Distance(mi)</th>\n",
       "      <th>Number</th>\n",
       "      <th>Temperature(F)</th>\n",
       "      <th>Wind_Chill(F)</th>\n",
       "      <th>Humidity(%)</th>\n",
       "      <th>Pressure(in)</th>\n",
       "      <th>Visibility(mi)</th>\n",
       "      <th>Wind_Speed(mph)</th>\n",
       "      <th>Precipitation(in)</th>\n",
       "    </tr>\n",
       "  </thead>\n",
       "  <tbody>\n",
       "    <tr>\n",
       "      <td>count</td>\n",
       "      <td>10000.000000</td>\n",
       "      <td>10000.00000</td>\n",
       "      <td>10000.000000</td>\n",
       "      <td>10000.000000</td>\n",
       "      <td>0.0</td>\n",
       "      <td>0.0</td>\n",
       "      <td>10000.000000</td>\n",
       "      <td>2792.000000</td>\n",
       "      <td>9915.000000</td>\n",
       "      <td>1426.000000</td>\n",
       "      <td>9876.000000</td>\n",
       "      <td>9965.000000</td>\n",
       "      <td>9904.000000</td>\n",
       "      <td>8226.000000</td>\n",
       "      <td>1123.000000</td>\n",
       "    </tr>\n",
       "    <tr>\n",
       "      <td>mean</td>\n",
       "      <td>209.487200</td>\n",
       "      <td>2.39470</td>\n",
       "      <td>38.128680</td>\n",
       "      <td>-119.041084</td>\n",
       "      <td>NaN</td>\n",
       "      <td>NaN</td>\n",
       "      <td>0.021386</td>\n",
       "      <td>6475.279370</td>\n",
       "      <td>59.643732</td>\n",
       "      <td>33.126157</td>\n",
       "      <td>64.083131</td>\n",
       "      <td>30.012505</td>\n",
       "      <td>8.914297</td>\n",
       "      <td>8.860528</td>\n",
       "      <td>0.027720</td>\n",
       "    </tr>\n",
       "    <tr>\n",
       "      <td>std</td>\n",
       "      <td>20.115469</td>\n",
       "      <td>0.49126</td>\n",
       "      <td>0.749559</td>\n",
       "      <td>9.963780</td>\n",
       "      <td>NaN</td>\n",
       "      <td>NaN</td>\n",
       "      <td>0.397797</td>\n",
       "      <td>7171.055358</td>\n",
       "      <td>17.369289</td>\n",
       "      <td>10.297458</td>\n",
       "      <td>24.475341</td>\n",
       "      <td>0.316665</td>\n",
       "      <td>2.570054</td>\n",
       "      <td>4.592276</td>\n",
       "      <td>0.046018</td>\n",
       "    </tr>\n",
       "    <tr>\n",
       "      <td>min</td>\n",
       "      <td>200.000000</td>\n",
       "      <td>1.00000</td>\n",
       "      <td>36.352592</td>\n",
       "      <td>-123.810753</td>\n",
       "      <td>NaN</td>\n",
       "      <td>NaN</td>\n",
       "      <td>0.000000</td>\n",
       "      <td>1.000000</td>\n",
       "      <td>3.900000</td>\n",
       "      <td>-8.400000</td>\n",
       "      <td>8.000000</td>\n",
       "      <td>3.010000</td>\n",
       "      <td>0.200000</td>\n",
       "      <td>1.200000</td>\n",
       "      <td>0.000000</td>\n",
       "    </tr>\n",
       "    <tr>\n",
       "      <td>25%</td>\n",
       "      <td>201.000000</td>\n",
       "      <td>2.00000</td>\n",
       "      <td>37.643864</td>\n",
       "      <td>-122.159031</td>\n",
       "      <td>NaN</td>\n",
       "      <td>NaN</td>\n",
       "      <td>0.000000</td>\n",
       "      <td>1600.750000</td>\n",
       "      <td>48.200000</td>\n",
       "      <td>27.500000</td>\n",
       "      <td>46.000000</td>\n",
       "      <td>29.900000</td>\n",
       "      <td>10.000000</td>\n",
       "      <td>5.800000</td>\n",
       "      <td>0.000000</td>\n",
       "    </tr>\n",
       "    <tr>\n",
       "      <td>50%</td>\n",
       "      <td>201.000000</td>\n",
       "      <td>2.00000</td>\n",
       "      <td>37.959778</td>\n",
       "      <td>-121.875954</td>\n",
       "      <td>NaN</td>\n",
       "      <td>NaN</td>\n",
       "      <td>0.010000</td>\n",
       "      <td>4077.500000</td>\n",
       "      <td>57.000000</td>\n",
       "      <td>36.400000</td>\n",
       "      <td>67.000000</td>\n",
       "      <td>30.010000</td>\n",
       "      <td>10.000000</td>\n",
       "      <td>8.100000</td>\n",
       "      <td>0.010000</td>\n",
       "    </tr>\n",
       "    <tr>\n",
       "      <td>75%</td>\n",
       "      <td>201.000000</td>\n",
       "      <td>3.00000</td>\n",
       "      <td>38.574538</td>\n",
       "      <td>-121.349976</td>\n",
       "      <td>NaN</td>\n",
       "      <td>NaN</td>\n",
       "      <td>0.010000</td>\n",
       "      <td>8207.250000</td>\n",
       "      <td>71.100000</td>\n",
       "      <td>40.800000</td>\n",
       "      <td>86.000000</td>\n",
       "      <td>30.120000</td>\n",
       "      <td>10.000000</td>\n",
       "      <td>11.500000</td>\n",
       "      <td>0.040000</td>\n",
       "    </tr>\n",
       "    <tr>\n",
       "      <td>max</td>\n",
       "      <td>406.000000</td>\n",
       "      <td>4.00000</td>\n",
       "      <td>41.428753</td>\n",
       "      <td>-81.550728</td>\n",
       "      <td>NaN</td>\n",
       "      <td>NaN</td>\n",
       "      <td>24.040000</td>\n",
       "      <td>52664.000000</td>\n",
       "      <td>106.000000</td>\n",
       "      <td>66.000000</td>\n",
       "      <td>100.000000</td>\n",
       "      <td>30.620000</td>\n",
       "      <td>80.000000</td>\n",
       "      <td>33.400000</td>\n",
       "      <td>0.490000</td>\n",
       "    </tr>\n",
       "  </tbody>\n",
       "</table>\n",
       "</div>"
      ],
      "text/plain": [
       "                TMC     Severity     Start_Lat     Start_Lng  End_Lat  \\\n",
       "count  10000.000000  10000.00000  10000.000000  10000.000000      0.0   \n",
       "mean     209.487200      2.39470     38.128680   -119.041084      NaN   \n",
       "std       20.115469      0.49126      0.749559      9.963780      NaN   \n",
       "min      200.000000      1.00000     36.352592   -123.810753      NaN   \n",
       "25%      201.000000      2.00000     37.643864   -122.159031      NaN   \n",
       "50%      201.000000      2.00000     37.959778   -121.875954      NaN   \n",
       "75%      201.000000      3.00000     38.574538   -121.349976      NaN   \n",
       "max      406.000000      4.00000     41.428753    -81.550728      NaN   \n",
       "\n",
       "       End_Lng  Distance(mi)        Number  Temperature(F)  Wind_Chill(F)  \\\n",
       "count      0.0  10000.000000   2792.000000     9915.000000    1426.000000   \n",
       "mean       NaN      0.021386   6475.279370       59.643732      33.126157   \n",
       "std        NaN      0.397797   7171.055358       17.369289      10.297458   \n",
       "min        NaN      0.000000      1.000000        3.900000      -8.400000   \n",
       "25%        NaN      0.000000   1600.750000       48.200000      27.500000   \n",
       "50%        NaN      0.010000   4077.500000       57.000000      36.400000   \n",
       "75%        NaN      0.010000   8207.250000       71.100000      40.800000   \n",
       "max        NaN     24.040000  52664.000000      106.000000      66.000000   \n",
       "\n",
       "       Humidity(%)  Pressure(in)  Visibility(mi)  Wind_Speed(mph)  \\\n",
       "count  9876.000000   9965.000000     9904.000000      8226.000000   \n",
       "mean     64.083131     30.012505        8.914297         8.860528   \n",
       "std      24.475341      0.316665        2.570054         4.592276   \n",
       "min       8.000000      3.010000        0.200000         1.200000   \n",
       "25%      46.000000     29.900000       10.000000         5.800000   \n",
       "50%      67.000000     30.010000       10.000000         8.100000   \n",
       "75%      86.000000     30.120000       10.000000        11.500000   \n",
       "max     100.000000     30.620000       80.000000        33.400000   \n",
       "\n",
       "       Precipitation(in)  \n",
       "count        1123.000000  \n",
       "mean            0.027720  \n",
       "std             0.046018  \n",
       "min             0.000000  \n",
       "25%             0.000000  \n",
       "50%             0.010000  \n",
       "75%             0.040000  \n",
       "max             0.490000  "
      ]
     },
     "execution_count": 81,
     "metadata": {},
     "output_type": "execute_result"
    }
   ],
   "source": [
    "df_sample.describe()"
   ]
  },
  {
   "cell_type": "code",
   "execution_count": 82,
   "metadata": {},
   "outputs": [],
   "source": [
    "df_sample.loc[:, 'time_delta'] = (df_sample.End_Time - df_sample.Start_Time).apply(lambda x: x.total_seconds())"
   ]
  },
  {
   "cell_type": "code",
   "execution_count": 84,
   "metadata": {},
   "outputs": [],
   "source": [
    "df_sample.loc[:, 'hod'] = ['{:0>2d}:{}'.format(r.hour, ['00', 30][r.minute < 30]) for r in df_sample.Start_Time]"
   ]
  },
  {
   "cell_type": "code",
   "execution_count": 85,
   "metadata": {},
   "outputs": [],
   "source": [
    "summary_ = df_sample[['hod', 'Severity']].groupby(['hod']).mean().reset_index()"
   ]
  },
  {
   "cell_type": "code",
   "execution_count": 86,
   "metadata": {},
   "outputs": [
    {
     "data": {
      "text/html": [
       "\n",
       "<div id=\"altair-viz-af8df9eb782f4a06bbae76656c2ad6d8\"></div>\n",
       "<script type=\"text/javascript\">\n",
       "  (function(spec, embedOpt){\n",
       "    const outputDiv = document.getElementById(\"altair-viz-af8df9eb782f4a06bbae76656c2ad6d8\");\n",
       "    const paths = {\n",
       "      \"vega\": \"https://cdn.jsdelivr.net/npm//vega@5?noext\",\n",
       "      \"vega-lib\": \"https://cdn.jsdelivr.net/npm//vega-lib?noext\",\n",
       "      \"vega-lite\": \"https://cdn.jsdelivr.net/npm//vega-lite@4.0.2?noext\",\n",
       "      \"vega-embed\": \"https://cdn.jsdelivr.net/npm//vega-embed@6?noext\",\n",
       "    };\n",
       "\n",
       "    function loadScript(lib) {\n",
       "      return new Promise(function(resolve, reject) {\n",
       "        var s = document.createElement('script');\n",
       "        s.src = paths[lib];\n",
       "        s.async = true;\n",
       "        s.onload = () => resolve(paths[lib]);\n",
       "        s.onerror = () => reject(`Error loading script: ${paths[lib]}`);\n",
       "        document.getElementsByTagName(\"head\")[0].appendChild(s);\n",
       "      });\n",
       "    }\n",
       "\n",
       "    function showError(err) {\n",
       "      outputDiv.innerHTML = `<div class=\"error\" style=\"color:red;\">${err}</div>`;\n",
       "      throw err;\n",
       "    }\n",
       "\n",
       "    function displayChart(vegaEmbed) {\n",
       "      vegaEmbed(outputDiv, spec, embedOpt)\n",
       "        .catch(err => showError(`Javascript Error: ${err.message}<br>This usually means there's a typo in your chart specification. See the javascript console for the full traceback.`));\n",
       "    }\n",
       "\n",
       "    if(typeof define === \"function\" && define.amd) {\n",
       "      requirejs.config({paths});\n",
       "      require([\"vega-embed\"], displayChart, err => showError(`Error loading script: ${err.message}`));\n",
       "    } else if (typeof vegaEmbed === \"function\") {\n",
       "      displayChart(vegaEmbed);\n",
       "    } else {\n",
       "      loadScript(\"vega\")\n",
       "        .then(() => loadScript(\"vega-lite\"))\n",
       "        .then(() => loadScript(\"vega-embed\"))\n",
       "        .catch(showError)\n",
       "        .then(() => displayChart(vegaEmbed));\n",
       "    }\n",
       "  })({\"config\": {\"view\": {\"continuousWidth\": 400, \"continuousHeight\": 300}}, \"data\": {\"name\": \"data-9632b7f055348723d0a3ad4731ac99c3\"}, \"mark\": \"bar\", \"encoding\": {\"x\": {\"type\": \"nominal\", \"field\": \"hod\"}, \"y\": {\"type\": \"quantitative\", \"field\": \"Severity\"}}, \"$schema\": \"https://vega.github.io/schema/vega-lite/v4.0.2.json\", \"datasets\": {\"data-9632b7f055348723d0a3ad4731ac99c3\": [{\"hod\": \"00:00\", \"Severity\": 2.356521739130435}, {\"hod\": \"00:30\", \"Severity\": 2.404255319148936}, {\"hod\": \"01:00\", \"Severity\": 2.4909090909090907}, {\"hod\": \"01:30\", \"Severity\": 2.525252525252525}, {\"hod\": \"02:00\", \"Severity\": 2.4130434782608696}, {\"hod\": \"02:30\", \"Severity\": 2.5}, {\"hod\": \"03:00\", \"Severity\": 2.486111111111111}, {\"hod\": \"03:30\", \"Severity\": 2.4328358208955225}, {\"hod\": \"04:00\", \"Severity\": 2.4482758620689653}, {\"hod\": \"04:30\", \"Severity\": 2.4130434782608696}, {\"hod\": \"05:00\", \"Severity\": 2.5211267605633805}, {\"hod\": \"05:30\", \"Severity\": 2.41025641025641}, {\"hod\": \"06:00\", \"Severity\": 2.3797468354430378}, {\"hod\": \"06:30\", \"Severity\": 2.466666666666667}, {\"hod\": \"07:00\", \"Severity\": 2.4368421052631577}, {\"hod\": \"07:30\", \"Severity\": 2.364130434782609}, {\"hod\": \"08:00\", \"Severity\": 2.375}, {\"hod\": \"08:30\", \"Severity\": 2.36734693877551}, {\"hod\": \"09:00\", \"Severity\": 2.4065934065934065}, {\"hod\": \"09:30\", \"Severity\": 2.394308943089431}, {\"hod\": \"10:00\", \"Severity\": 2.3607954545454546}, {\"hod\": \"10:30\", \"Severity\": 2.388888888888889}, {\"hod\": \"11:00\", \"Severity\": 2.3454038997214486}, {\"hod\": \"11:30\", \"Severity\": 2.4040697674418605}, {\"hod\": \"12:00\", \"Severity\": 2.3624161073825505}, {\"hod\": \"12:30\", \"Severity\": 2.3655913978494625}, {\"hod\": \"13:00\", \"Severity\": 2.3672566371681416}, {\"hod\": \"13:30\", \"Severity\": 2.3389830508474576}, {\"hod\": \"14:00\", \"Severity\": 2.3427561837455833}, {\"hod\": \"14:30\", \"Severity\": 2.3821138211382116}, {\"hod\": \"15:00\", \"Severity\": 2.343839541547278}, {\"hod\": \"15:30\", \"Severity\": 2.341463414634146}, {\"hod\": \"16:00\", \"Severity\": 2.392226148409894}, {\"hod\": \"16:30\", \"Severity\": 2.3483870967741933}, {\"hod\": \"17:00\", \"Severity\": 2.3959390862944163}, {\"hod\": \"17:30\", \"Severity\": 2.373205741626794}, {\"hod\": \"18:00\", \"Severity\": 2.4078014184397163}, {\"hod\": \"18:30\", \"Severity\": 2.3955223880597014}, {\"hod\": \"19:00\", \"Severity\": 2.429042904290429}, {\"hod\": \"19:30\", \"Severity\": 2.438943894389439}, {\"hod\": \"20:00\", \"Severity\": 2.4796747967479673}, {\"hod\": \"20:30\", \"Severity\": 2.4308681672025725}, {\"hod\": \"21:00\", \"Severity\": 2.4281045751633985}, {\"hod\": \"21:30\", \"Severity\": 2.4401408450704225}, {\"hod\": \"22:00\", \"Severity\": 2.4050632911392404}, {\"hod\": \"22:30\", \"Severity\": 2.3621399176954734}, {\"hod\": \"23:00\", \"Severity\": 2.3214285714285716}, {\"hod\": \"23:30\", \"Severity\": 2.341463414634146}]}}, {\"mode\": \"vega-lite\"});\n",
       "</script>"
      ],
      "text/plain": [
       "alt.Chart(...)"
      ]
     },
     "execution_count": 86,
     "metadata": {},
     "output_type": "execute_result"
    }
   ],
   "source": [
    "alt.Chart(summary_).mark_bar().encode(\n",
    "    x='hod',\n",
    "    y='Severity'\n",
    ")"
   ]
  },
  {
   "cell_type": "code",
   "execution_count": 98,
   "metadata": {},
   "outputs": [
    {
     "data": {
      "text/html": [
       "\n",
       "<div id=\"altair-viz-921ebcd507834f5b9c3fc51c7b549ac0\"></div>\n",
       "<script type=\"text/javascript\">\n",
       "  (function(spec, embedOpt){\n",
       "    const outputDiv = document.getElementById(\"altair-viz-921ebcd507834f5b9c3fc51c7b549ac0\");\n",
       "    const paths = {\n",
       "      \"vega\": \"https://cdn.jsdelivr.net/npm//vega@5?noext\",\n",
       "      \"vega-lib\": \"https://cdn.jsdelivr.net/npm//vega-lib?noext\",\n",
       "      \"vega-lite\": \"https://cdn.jsdelivr.net/npm//vega-lite@4.0.2?noext\",\n",
       "      \"vega-embed\": \"https://cdn.jsdelivr.net/npm//vega-embed@6?noext\",\n",
       "    };\n",
       "\n",
       "    function loadScript(lib) {\n",
       "      return new Promise(function(resolve, reject) {\n",
       "        var s = document.createElement('script');\n",
       "        s.src = paths[lib];\n",
       "        s.async = true;\n",
       "        s.onload = () => resolve(paths[lib]);\n",
       "        s.onerror = () => reject(`Error loading script: ${paths[lib]}`);\n",
       "        document.getElementsByTagName(\"head\")[0].appendChild(s);\n",
       "      });\n",
       "    }\n",
       "\n",
       "    function showError(err) {\n",
       "      outputDiv.innerHTML = `<div class=\"error\" style=\"color:red;\">${err}</div>`;\n",
       "      throw err;\n",
       "    }\n",
       "\n",
       "    function displayChart(vegaEmbed) {\n",
       "      vegaEmbed(outputDiv, spec, embedOpt)\n",
       "        .catch(err => showError(`Javascript Error: ${err.message}<br>This usually means there's a typo in your chart specification. See the javascript console for the full traceback.`));\n",
       "    }\n",
       "\n",
       "    if(typeof define === \"function\" && define.amd) {\n",
       "      requirejs.config({paths});\n",
       "      require([\"vega-embed\"], displayChart, err => showError(`Error loading script: ${err.message}`));\n",
       "    } else if (typeof vegaEmbed === \"function\") {\n",
       "      displayChart(vegaEmbed);\n",
       "    } else {\n",
       "      loadScript(\"vega\")\n",
       "        .then(() => loadScript(\"vega-lite\"))\n",
       "        .then(() => loadScript(\"vega-embed\"))\n",
       "        .catch(showError)\n",
       "        .then(() => displayChart(vegaEmbed));\n",
       "    }\n",
       "  })({\"config\": {\"view\": {\"continuousWidth\": 400, \"continuousHeight\": 300}}, \"data\": {\"name\": \"data-eb0ce184fe9a6eb6d45da83feaf2a6fb\"}, \"mark\": \"bar\", \"encoding\": {\"x\": {\"type\": \"nominal\", \"field\": \"hod\"}, \"y\": {\"type\": \"quantitative\", \"field\": \"time_delta\"}}, \"$schema\": \"https://vega.github.io/schema/vega-lite/v4.0.2.json\", \"datasets\": {\"data-eb0ce184fe9a6eb6d45da83feaf2a6fb\": [{\"hod\": \"00:00\", \"time_delta\": 0.017716495270003636}, {\"hod\": \"00:30\", \"time_delta\": 0.017191845230861157}, {\"hod\": \"01:00\", \"time_delta\": 0.02267400034285128}, {\"hod\": \"01:30\", \"time_delta\": 0.022058683258506382}, {\"hod\": \"02:00\", \"time_delta\": 0.021910433484102713}, {\"hod\": \"02:30\", \"time_delta\": 0.02454870390492511}, {\"hod\": \"03:00\", \"time_delta\": 0.022601178254633793}, {\"hod\": \"03:30\", \"time_delta\": 0.023553780892585963}, {\"hod\": \"04:00\", \"time_delta\": 0.022248984059518202}, {\"hod\": \"04:30\", \"time_delta\": 0.02097002813334512}, {\"hod\": \"05:00\", \"time_delta\": 0.021811341753645026}, {\"hod\": \"05:30\", \"time_delta\": 0.01974766538746653}, {\"hod\": \"06:00\", \"time_delta\": 0.017245560442915798}, {\"hod\": \"06:30\", \"time_delta\": 0.023617997625997447}, {\"hod\": \"07:00\", \"time_delta\": 0.02925842312246681}, {\"hod\": \"07:30\", \"time_delta\": 0.030048647459502965}, {\"hod\": \"08:00\", \"time_delta\": 0.017608266846704027}, {\"hod\": \"08:30\", \"time_delta\": 0.02838617265831975}, {\"hod\": \"09:00\", \"time_delta\": 0.016338917921546226}, {\"hod\": \"09:30\", \"time_delta\": 0.02288572346963358}, {\"hod\": \"10:00\", \"time_delta\": 0.01775367291930332}, {\"hod\": \"10:30\", \"time_delta\": 0.01841119678387631}, {\"hod\": \"11:00\", \"time_delta\": 0.017865413580369745}, {\"hod\": \"11:30\", \"time_delta\": 0.017092519819373677}, {\"hod\": \"12:00\", \"time_delta\": 0.017892254091505584}, {\"hod\": \"12:30\", \"time_delta\": 0.016892773345916254}, {\"hod\": \"13:00\", \"time_delta\": 0.020418638054036615}, {\"hod\": \"13:30\", \"time_delta\": 0.017454762539427467}, {\"hod\": \"14:00\", \"time_delta\": 0.01916919541896644}, {\"hod\": \"14:30\", \"time_delta\": 0.018191428608776705}, {\"hod\": \"15:00\", \"time_delta\": 0.02394119562451585}, {\"hod\": \"15:30\", \"time_delta\": 0.023127782551839032}, {\"hod\": \"16:00\", \"time_delta\": 0.022748606362397727}, {\"hod\": \"16:30\", \"time_delta\": 0.021796125686062307}, {\"hod\": \"17:00\", \"time_delta\": 0.026860295536286393}, {\"hod\": \"17:30\", \"time_delta\": 0.025504655606383424}, {\"hod\": \"18:00\", \"time_delta\": 0.020855288114469038}, {\"hod\": \"18:30\", \"time_delta\": 0.020589367210155893}, {\"hod\": \"19:00\", \"time_delta\": 0.019909380338724202}, {\"hod\": \"19:30\", \"time_delta\": 0.020402696848729307}, {\"hod\": \"20:00\", \"time_delta\": 0.020704639095276176}, {\"hod\": \"20:30\", \"time_delta\": 0.02102094304831232}, {\"hod\": \"21:00\", \"time_delta\": 0.01896410322684897}, {\"hod\": \"21:30\", \"time_delta\": 0.017478516317576683}, {\"hod\": \"22:00\", \"time_delta\": 0.01911914989287181}, {\"hod\": \"22:30\", \"time_delta\": 0.019523497252548615}, {\"hod\": \"23:00\", \"time_delta\": 0.017086666851766213}, {\"hod\": \"23:30\", \"time_delta\": 0.016802385754152358}]}}, {\"mode\": \"vega-lite\"});\n",
       "</script>"
      ],
      "text/plain": [
       "alt.Chart(...)"
      ]
     },
     "execution_count": 98,
     "metadata": {},
     "output_type": "execute_result"
    }
   ],
   "source": [
    "summary_ = df_sample[['hod', 'time_delta']].groupby(['hod']).mean().reset_index()\n",
    "summary_.loc[:, 'time_delta'] = summary_['time_delta'] / summary_['time_delta'].sum()\n",
    "alt.Chart(summary_).mark_bar().encode(\n",
    "    x='hod',\n",
    "    y='time_delta'\n",
    ")"
   ]
  },
  {
   "cell_type": "code",
   "execution_count": null,
   "metadata": {},
   "outputs": [],
   "source": []
  }
 ],
 "metadata": {
  "kernelspec": {
   "display_name": "Python 3",
   "language": "python",
   "name": "python3"
  },
  "language_info": {
   "codemirror_mode": {
    "name": "ipython",
    "version": 3
   },
   "file_extension": ".py",
   "mimetype": "text/x-python",
   "name": "python",
   "nbconvert_exporter": "python",
   "pygments_lexer": "ipython3",
   "version": "3.7.4"
  },
  "pycharm": {
   "stem_cell": {
    "cell_type": "raw",
    "metadata": {
     "collapsed": false
    },
    "source": []
   }
  }
 },
 "nbformat": 4,
 "nbformat_minor": 1
}
