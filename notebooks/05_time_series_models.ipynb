{
 "cells": [
  {
   "cell_type": "code",
   "execution_count": null,
   "metadata": {
    "colab": {
     "base_uri": "https://localhost:8080/",
     "height": 77
    },
    "colab_type": "code",
    "executionInfo": {
     "elapsed": 12633,
     "status": "ok",
     "timestamp": 1589085917846,
     "user": {
      "displayName": "Yasas Senarath",
      "photoUrl": "",
      "userId": "14973809477224735657"
     },
     "user_tz": 240
    },
    "id": "aF9tCLHgNsI2",
    "outputId": "0893d938-5662-4b64-ae8e-c00d3c70db16"
   },
   "outputs": [],
   "source": [
    "# Import numpy, pandas, matpltlib.pyplot, sklearn modules and seaborn\n",
    "import matplotlib.pyplot as plt\n",
    "%matplotlib inline\n",
    "import numpy as np\n",
    "import pandas as pd\n",
    "pd.set_option('display.max_rows', 200)\n",
    "pd.set_option('display.max_columns', 200)\n",
    "plt.style.use('ggplot')\n",
    "import seaborn as sns\n",
    "# Import KNeighborsClassifier from sklearn.neighbors\n",
    "from sklearn.neighbors import KNeighborsClassifier\n",
    "# Import DecisionTreeClassifier from sklearn.tree\n",
    "from sklearn.tree import DecisionTreeClassifier\n",
    "# Import RandomForestClassifier\n",
    "from sklearn.ensemble import RandomForestClassifier\n",
    "# Import LogisticRegression\n",
    "from sklearn.linear_model import LogisticRegression\n",
    "from sklearn.model_selection import train_test_split\n",
    "from sklearn.model_selection import GridSearchCV\n",
    "from sklearn.feature_selection import SelectFromModel\n",
    "from sklearn.metrics import classification_report\n",
    "from sklearn.metrics import confusion_matrix\n",
    "from sklearn.metrics import accuracy_score, f1_score, precision_score, recall_score, classification_report\n",
    "from sklearn.metrics import roc_curve, auc\n",
    "# For Feature Explanations\n",
    "import shap\n",
    "# load JS visualization code to notebook\n",
    "shap.initjs()"
   ]
  },
  {
   "cell_type": "code",
   "execution_count": null,
   "metadata": {
    "colab": {},
    "colab_type": "code",
    "id": "MQb4bAxjNofa"
   },
   "outputs": [],
   "source": [
    "# Configurations\n",
    "STATE = 'CA'"
   ]
  },
  {
   "cell_type": "code",
   "execution_count": null,
   "metadata": {
    "colab": {
     "base_uri": "https://localhost:8080/",
     "height": 547
    },
    "colab_type": "code",
    "executionInfo": {
     "elapsed": 17157,
     "status": "ok",
     "timestamp": 1589085922386,
     "user": {
      "displayName": "Yasas Senarath",
      "photoUrl": "",
      "userId": "14973809477224735657"
     },
     "user_tz": 240
    },
    "id": "UXXnDxJiNH2l",
    "outputId": "d1558503-b766-441f-fcf6-d6009dd08dc4"
   },
   "outputs": [],
   "source": [
    "df = pd.read_csv(f'../output/accident_data_{STATE}.csv')\n",
    "\n",
    "df.head()"
   ]
  },
  {
   "cell_type": "code",
   "execution_count": null,
   "metadata": {
    "colab": {},
    "colab_type": "code",
    "id": "mh7Y13FoOnHh"
   },
   "outputs": [],
   "source": [
    "# Feature Extraction & Preprocessing"
   ]
  },
  {
   "cell_type": "code",
   "execution_count": 5,
   "metadata": {
    "colab": {},
    "colab_type": "code",
    "id": "C2Yz4ZQzNqq6"
   },
   "outputs": [],
   "source": [
    "# Set the list of features to include in Machine Learning\n",
    "feature_lst=['Source', 'Severity','Start_Lng','Start_Lat','Distance(mi)',\n",
    "             'Side','City','County','State','Timezone','Temperature(F)',\n",
    "             'Humidity(%)','Pressure(in)', 'Visibility(mi)', 'Wind_Direction',\n",
    "             'Weather_Condition','Amenity','Bump','Crossing','Give_Way',\n",
    "             'Junction','No_Exit','Railway','Roundabout','Station','Stop',\n",
    "             'Traffic_Calming','Traffic_Signal','Turning_Loop',\n",
    "             'Sunrise_Sunset','Hour','Weekday', \n",
    "             'previous_1', 'previous_2', 'previous_3',\n",
    "             ]"
   ]
  },
  {
   "cell_type": "code",
   "execution_count": 6,
   "metadata": {
    "colab": {
     "base_uri": "https://localhost:8080/",
     "height": 748
    },
    "colab_type": "code",
    "executionInfo": {
     "elapsed": 17130,
     "status": "ok",
     "timestamp": 1589085922388,
     "user": {
      "displayName": "Yasas Senarath",
      "photoUrl": "",
      "userId": "14973809477224735657"
     },
     "user_tz": 240
    },
    "id": "WMyif6SzOdmj",
    "outputId": "87496ab8-1229-4e53-adca-d606b8204dcf"
   },
   "outputs": [
    {
     "name": "stdout",
     "output_type": "stream",
     "text": [
      "<class 'pandas.core.frame.DataFrame'>\n",
      "RangeIndex: 177180 entries, 0 to 177179\n",
      "Data columns (total 35 columns):\n",
      "Source               177180 non-null object\n",
      "Severity             177180 non-null int64\n",
      "Start_Lng            177180 non-null float64\n",
      "Start_Lat            177180 non-null float64\n",
      "Distance(mi)         177180 non-null float64\n",
      "Side                 177180 non-null object\n",
      "City                 177179 non-null object\n",
      "County               177180 non-null object\n",
      "State                177180 non-null object\n",
      "Timezone             177114 non-null object\n",
      "Temperature(F)       172080 non-null float64\n",
      "Humidity(%)          171840 non-null float64\n",
      "Pressure(in)         173590 non-null float64\n",
      "Visibility(mi)       173103 non-null float64\n",
      "Wind_Direction       172049 non-null object\n",
      "Weather_Condition    173050 non-null object\n",
      "Amenity              177180 non-null bool\n",
      "Bump                 177180 non-null bool\n",
      "Crossing             177180 non-null bool\n",
      "Give_Way             177180 non-null bool\n",
      "Junction             177180 non-null bool\n",
      "No_Exit              177180 non-null bool\n",
      "Railway              177180 non-null bool\n",
      "Roundabout           177180 non-null bool\n",
      "Station              177180 non-null bool\n",
      "Stop                 177180 non-null bool\n",
      "Traffic_Calming      177180 non-null bool\n",
      "Traffic_Signal       177180 non-null bool\n",
      "Turning_Loop         177180 non-null bool\n",
      "Sunrise_Sunset       177179 non-null object\n",
      "Hour                 177180 non-null int64\n",
      "Weekday              177180 non-null object\n",
      "previous_1           177180 non-null float64\n",
      "previous_2           177180 non-null float64\n",
      "previous_3           177180 non-null float64\n",
      "dtypes: bool(13), float64(10), int64(2), object(10)\n",
      "memory usage: 31.9+ MB\n",
      "None\n"
     ]
    }
   ],
   "source": [
    "# Select the dataset to include only the selected features\n",
    "df_sel=df[feature_lst].copy()\n",
    "print(df_sel.info())"
   ]
  },
  {
   "cell_type": "code",
   "execution_count": 7,
   "metadata": {
    "colab": {
     "base_uri": "https://localhost:8080/",
     "height": 629
    },
    "colab_type": "code",
    "executionInfo": {
     "elapsed": 17294,
     "status": "ok",
     "timestamp": 1589085922560,
     "user": {
      "displayName": "Yasas Senarath",
      "photoUrl": "",
      "userId": "14973809477224735657"
     },
     "user_tz": 240
    },
    "id": "YJneNq9FOf3z",
    "outputId": "b37f1c36-411e-45c5-d65a-2a2b9255eae8"
   },
   "outputs": [
    {
     "data": {
      "text/plain": [
       "Source               0.000000\n",
       "Severity             0.000000\n",
       "Start_Lng            0.000000\n",
       "Start_Lat            0.000000\n",
       "Distance(mi)         0.000000\n",
       "Side                 0.000000\n",
       "City                 0.000006\n",
       "County               0.000000\n",
       "State                0.000000\n",
       "Timezone             0.000373\n",
       "Temperature(F)       0.028784\n",
       "Humidity(%)          0.030139\n",
       "Pressure(in)         0.020262\n",
       "Visibility(mi)       0.023010\n",
       "Wind_Direction       0.028959\n",
       "Weather_Condition    0.023310\n",
       "Amenity              0.000000\n",
       "Bump                 0.000000\n",
       "Crossing             0.000000\n",
       "Give_Way             0.000000\n",
       "Junction             0.000000\n",
       "No_Exit              0.000000\n",
       "Railway              0.000000\n",
       "Roundabout           0.000000\n",
       "Station              0.000000\n",
       "Stop                 0.000000\n",
       "Traffic_Calming      0.000000\n",
       "Traffic_Signal       0.000000\n",
       "Turning_Loop         0.000000\n",
       "Sunrise_Sunset       0.000006\n",
       "Hour                 0.000000\n",
       "Weekday              0.000000\n",
       "previous_1           0.000000\n",
       "previous_2           0.000000\n",
       "previous_3           0.000000\n",
       "dtype: float64"
      ]
     },
     "execution_count": 7,
     "metadata": {},
     "output_type": "execute_result"
    }
   ],
   "source": [
    "# Check missing values\n",
    "df_sel.isnull().mean()"
   ]
  },
  {
   "cell_type": "code",
   "execution_count": 8,
   "metadata": {
    "colab": {
     "base_uri": "https://localhost:8080/",
     "height": 34
    },
    "colab_type": "code",
    "executionInfo": {
     "elapsed": 17609,
     "status": "ok",
     "timestamp": 1589085922888,
     "user": {
      "displayName": "Yasas Senarath",
      "photoUrl": "",
      "userId": "14973809477224735657"
     },
     "user_tz": 240
    },
    "id": "F5no2qwXOj4d",
    "outputId": "93a8a55f-5bab-4396-a764-9d1832e3a0c4"
   },
   "outputs": [
    {
     "data": {
      "text/plain": [
       "(169881, 35)"
      ]
     },
     "execution_count": 8,
     "metadata": {},
     "output_type": "execute_result"
    }
   ],
   "source": [
    "df_sel.dropna(subset=df_sel.columns[df_sel.isnull().mean()!=0], how='any', axis=0, inplace=True)\n",
    "df_sel.shape"
   ]
  },
  {
   "cell_type": "code",
   "execution_count": 9,
   "metadata": {
    "colab": {
     "base_uri": "https://localhost:8080/",
     "height": 714
    },
    "colab_type": "code",
    "executionInfo": {
     "elapsed": 17598,
     "status": "ok",
     "timestamp": 1589085922889,
     "user": {
      "displayName": "Yasas Senarath",
      "photoUrl": "",
      "userId": "14973809477224735657"
     },
     "user_tz": 240
    },
    "id": "BsgwUWhPOlPI",
    "outputId": "a36bab99-0d00-438f-f784-42d3eb0bbcdc"
   },
   "outputs": [
    {
     "name": "stdout",
     "output_type": "stream",
     "text": [
      "<class 'pandas.core.frame.DataFrame'>\n",
      "Int64Index: 169881 entries, 0 to 177179\n",
      "Data columns (total 34 columns):\n",
      "Source               169881 non-null object\n",
      "Severity             169881 non-null int64\n",
      "Start_Lng            169881 non-null float64\n",
      "Start_Lat            169881 non-null float64\n",
      "Distance(mi)         169881 non-null float64\n",
      "Side                 169881 non-null object\n",
      "City                 169881 non-null object\n",
      "County               169881 non-null object\n",
      "Timezone             169881 non-null object\n",
      "Temperature(F)       169881 non-null float64\n",
      "Humidity(%)          169881 non-null float64\n",
      "Pressure(in)         169881 non-null float64\n",
      "Visibility(mi)       169881 non-null float64\n",
      "Wind_Direction       169881 non-null object\n",
      "Weather_Condition    169881 non-null object\n",
      "Amenity              169881 non-null bool\n",
      "Bump                 169881 non-null bool\n",
      "Crossing             169881 non-null bool\n",
      "Give_Way             169881 non-null bool\n",
      "Junction             169881 non-null bool\n",
      "No_Exit              169881 non-null bool\n",
      "Railway              169881 non-null bool\n",
      "Roundabout           169881 non-null bool\n",
      "Station              169881 non-null bool\n",
      "Stop                 169881 non-null bool\n",
      "Traffic_Calming      169881 non-null bool\n",
      "Traffic_Signal       169881 non-null bool\n",
      "Turning_Loop         169881 non-null bool\n",
      "Sunrise_Sunset       169881 non-null object\n",
      "Hour                 169881 non-null int64\n",
      "Weekday              169881 non-null object\n",
      "previous_1           169881 non-null float64\n",
      "previous_2           169881 non-null float64\n",
      "previous_3           169881 non-null float64\n",
      "dtypes: bool(13), float64(10), int64(2), object(9)\n",
      "memory usage: 30.6+ MB\n"
     ]
    }
   ],
   "source": [
    "df_state = df_sel.drop('State', axis=1)\n",
    "df_state.info()"
   ]
  },
  {
   "cell_type": "code",
   "execution_count": 10,
   "metadata": {
    "colab": {
     "base_uri": "https://localhost:8080/",
     "height": 102
    },
    "colab_type": "code",
    "executionInfo": {
     "elapsed": 1396,
     "status": "ok",
     "timestamp": 1589087549469,
     "user": {
      "displayName": "Yasas Senarath",
      "photoUrl": "",
      "userId": "14973809477224735657"
     },
     "user_tz": 240
    },
    "id": "JtpMcglEOzmG",
    "outputId": "ae59dc7c-d368-4794-bd1b-841b09896044"
   },
   "outputs": [
    {
     "name": "stdout",
     "output_type": "stream",
     "text": [
      "<class 'pandas.core.frame.DataFrame'>\n",
      "Int64Index: 169881 entries, 0 to 177179\n",
      "Columns: 1149 entries, Severity to Weekday_Wed\n",
      "dtypes: bool(13), float64(10), int64(2), uint8(1124)\n",
      "memory usage: 201.1 MB\n"
     ]
    }
   ],
   "source": [
    "# Generate dummies for categorical data\n",
    "df_train = pd.get_dummies(df_state,drop_first=True)\n",
    "\n",
    "df_train.info()"
   ]
  },
  {
   "cell_type": "code",
   "execution_count": 11,
   "metadata": {
    "colab": {},
    "colab_type": "code",
    "id": "HLCDews5PAe4"
   },
   "outputs": [],
   "source": [
    "# Set the target for the prediction\n",
    "target='Severity'\n",
    "\n",
    "# Create arrays for the features and the response variable\n",
    "\n",
    "# set X and y\n",
    "y = df_train[target]\n",
    "X = df_train.drop(target, axis=1)\n",
    "\n",
    "# Split the data set into training and testing data sets\n",
    "X_train, X_test, y_train, y_test = train_test_split(X, y, test_size=0.2, random_state=21, stratify=y)"
   ]
  },
  {
   "cell_type": "code",
   "execution_count": null,
   "metadata": {
    "colab": {
     "base_uri": "https://localhost:8080/",
     "height": 306
    },
    "colab_type": "code",
    "executionInfo": {
     "elapsed": 38506,
     "status": "ok",
     "timestamp": 1589087590931,
     "user": {
      "displayName": "Yasas Senarath",
      "photoUrl": "",
      "userId": "14973809477224735657"
     },
     "user_tz": 240
    },
    "id": "dvlPJ6-RPCuL",
    "outputId": "fa239381-d59f-43e4-f62b-7a2c1f5a2c3b"
   },
   "outputs": [],
   "source": [
    "model = LogisticRegression()\n",
    "\n",
    "model.fit(X_train, y_train)\n",
    "\n",
    "y_pred = model.predict(X_test)\n",
    "\n",
    "# Get the accuracy score\n",
    "acc=accuracy_score(y_test, y_pred)\n",
    "\n",
    "print(\"[Logistic regression algorithm] accuracy_score: {:.3f}.\".format(acc))\n",
    "\n",
    "print(classification_report(y_test, y_pred))"
   ]
  },
  {
   "cell_type": "code",
   "execution_count": null,
   "metadata": {
    "colab": {
     "base_uri": "https://localhost:8080/",
     "height": 187
    },
    "colab_type": "code",
    "executionInfo": {
     "elapsed": 38424,
     "status": "ok",
     "timestamp": 1589087631426,
     "user": {
      "displayName": "Yasas Senarath",
      "photoUrl": "",
      "userId": "14973809477224735657"
     },
     "user_tz": 240
    },
    "id": "PlGJdeTGPJU4",
    "outputId": "e41695e4-495c-4ce6-bcb4-429ef6906407"
   },
   "outputs": [],
   "source": [
    "model = DecisionTreeClassifier()\n",
    "\n",
    "model.fit(X_train, y_train)\n",
    "\n",
    "y_pred = model.predict(X_test)\n",
    "\n",
    "# Get the accuracy score\n",
    "acc = accuracy_score(y_test, y_pred)\n",
    "\n",
    "print(\"[Logistic regression algorithm] accuracy_score: {:.3f}.\".format(acc))\n",
    "\n",
    "print(classification_report(y_test, y_pred))"
   ]
  },
  {
   "cell_type": "code",
   "execution_count": 12,
   "metadata": {
    "colab": {
     "base_uri": "https://localhost:8080/",
     "height": 187
    },
    "colab_type": "code",
    "executionInfo": {
     "elapsed": 33157,
     "status": "ok",
     "timestamp": 1589087634299,
     "user": {
      "displayName": "Yasas Senarath",
      "photoUrl": "",
      "userId": "14973809477224735657"
     },
     "user_tz": 240
    },
    "id": "cl7WCchNS9XP",
    "outputId": "771a29e8-096b-408e-aae3-98a0df86e36e"
   },
   "outputs": [
    {
     "name": "stdout",
     "output_type": "stream",
     "text": [
      "[Logistic regression algorithm] accuracy_score: 0.848.\n",
      "              precision    recall  f1-score   support\n",
      "\n",
      "       False       0.90      0.90      0.90     26692\n",
      "        True       0.65      0.65      0.65      7285\n",
      "\n",
      "    accuracy                           0.85     33977\n",
      "   macro avg       0.77      0.78      0.78     33977\n",
      "weighted avg       0.85      0.85      0.85     33977\n",
      "\n"
     ]
    }
   ],
   "source": [
    "model = RandomForestClassifier(n_estimators=1)\n",
    "\n",
    "model.fit(X_train, y_train)\n",
    "\n",
    "y_pred = model.predict(X_test)\n",
    "\n",
    "# Get the accuracy score\n",
    "acc = accuracy_score(y_test, y_pred)\n",
    "\n",
    "print(\"[Logistic regression algorithm] accuracy_score: {:.3f}.\".format(acc))\n",
    "\n",
    "print(classification_report(y_test, y_pred))"
   ]
  },
  {
   "cell_type": "code",
   "execution_count": 13,
   "metadata": {
    "colab": {
     "base_uri": "https://localhost:8080/",
     "height": 34
    },
    "colab_type": "code",
    "executionInfo": {
     "elapsed": 270,
     "status": "ok",
     "timestamp": 1589087642280,
     "user": {
      "displayName": "Yasas Senarath",
      "photoUrl": "",
      "userId": "14973809477224735657"
     },
     "user_tz": 240
    },
    "id": "jr6QOtHUS-1V",
    "outputId": "d337c058-2eb7-4f85-a334-f099163192e8"
   },
   "outputs": [
    {
     "name": "stderr",
     "output_type": "stream",
     "text": [
      "Setting feature_perturbation = \"tree_path_dependent\" because no background data was given.\n"
     ]
    }
   ],
   "source": [
    "# explain the model's predictions using SHAP\n",
    "explainer = shap.TreeExplainer(model)"
   ]
  },
  {
   "cell_type": "code",
   "execution_count": 14,
   "metadata": {
    "colab": {},
    "colab_type": "code",
    "id": "T7jdC0SH7tI3"
   },
   "outputs": [],
   "source": [
    "top = X_test.sample(n=200)"
   ]
  },
  {
   "cell_type": "code",
   "execution_count": 15,
   "metadata": {
    "colab": {},
    "colab_type": "code",
    "id": "mGbclvtVuE0O"
   },
   "outputs": [
    {
     "ename": "SHAPError",
     "evalue": "Additivity check failed in TreeExplainer! Please ensure the data matrix you passed to the explainer is the same shape that the model was trained on. If your data shape is correct then please report this on GitHub. Consider retrying with the feature_perturbation='interventional' option. This check failed because for one of the samples the sum of the SHAP values was 244585.705663, while the model output was 1.000000. If this difference is acceptable you can set check_additivity=False to disable this check.",
     "output_type": "error",
     "traceback": [
      "\u001b[0;31m---------------------------------------------------------------------------\u001b[0m",
      "\u001b[0;31mSHAPError\u001b[0m                                 Traceback (most recent call last)",
      "\u001b[0;32m<ipython-input-15-3bfb6c7a7807>\u001b[0m in \u001b[0;36m<module>\u001b[0;34m\u001b[0m\n\u001b[0;32m----> 1\u001b[0;31m \u001b[0mshap_values\u001b[0m \u001b[0;34m=\u001b[0m \u001b[0mexplainer\u001b[0m\u001b[0;34m.\u001b[0m\u001b[0mshap_values\u001b[0m\u001b[0;34m(\u001b[0m\u001b[0mtop\u001b[0m\u001b[0;34m)\u001b[0m\u001b[0;34m\u001b[0m\u001b[0;34m\u001b[0m\u001b[0m\n\u001b[0m",
      "\u001b[0;32m/opt/anaconda3/lib/python3.7/site-packages/shap/explainers/tree.py\u001b[0m in \u001b[0;36mshap_values\u001b[0;34m(self, X, y, tree_limit, approximate, check_additivity)\u001b[0m\n\u001b[1;32m    342\u001b[0m \u001b[0;34m\u001b[0m\u001b[0m\n\u001b[1;32m    343\u001b[0m         \u001b[0;32mif\u001b[0m \u001b[0mcheck_additivity\u001b[0m \u001b[0;32mand\u001b[0m \u001b[0mself\u001b[0m\u001b[0;34m.\u001b[0m\u001b[0mmodel\u001b[0m\u001b[0;34m.\u001b[0m\u001b[0mmodel_output\u001b[0m \u001b[0;34m==\u001b[0m \u001b[0;34m\"raw\"\u001b[0m\u001b[0;34m:\u001b[0m\u001b[0;34m\u001b[0m\u001b[0;34m\u001b[0m\u001b[0m\n\u001b[0;32m--> 344\u001b[0;31m             \u001b[0mself\u001b[0m\u001b[0;34m.\u001b[0m\u001b[0massert_additivity\u001b[0m\u001b[0;34m(\u001b[0m\u001b[0mout\u001b[0m\u001b[0;34m,\u001b[0m \u001b[0mself\u001b[0m\u001b[0;34m.\u001b[0m\u001b[0mmodel\u001b[0m\u001b[0;34m.\u001b[0m\u001b[0mpredict\u001b[0m\u001b[0;34m(\u001b[0m\u001b[0mX\u001b[0m\u001b[0;34m)\u001b[0m\u001b[0;34m)\u001b[0m\u001b[0;34m\u001b[0m\u001b[0;34m\u001b[0m\u001b[0m\n\u001b[0m\u001b[1;32m    345\u001b[0m \u001b[0;34m\u001b[0m\u001b[0m\n\u001b[1;32m    346\u001b[0m         \u001b[0;31m# if our output format requires binary classificaiton to be represented as two outputs then we do that here\u001b[0m\u001b[0;34m\u001b[0m\u001b[0;34m\u001b[0m\u001b[0;34m\u001b[0m\u001b[0m\n",
      "\u001b[0;32m/opt/anaconda3/lib/python3.7/site-packages/shap/explainers/tree.py\u001b[0m in \u001b[0;36massert_additivity\u001b[0;34m(self, phi, model_output)\u001b[0m\n\u001b[1;32m    465\u001b[0m         \u001b[0;32mif\u001b[0m \u001b[0mtype\u001b[0m\u001b[0;34m(\u001b[0m\u001b[0mphi\u001b[0m\u001b[0;34m)\u001b[0m \u001b[0;32mis\u001b[0m \u001b[0mlist\u001b[0m\u001b[0;34m:\u001b[0m\u001b[0;34m\u001b[0m\u001b[0;34m\u001b[0m\u001b[0m\n\u001b[1;32m    466\u001b[0m             \u001b[0;32mfor\u001b[0m \u001b[0mi\u001b[0m \u001b[0;32min\u001b[0m \u001b[0mrange\u001b[0m\u001b[0;34m(\u001b[0m\u001b[0mlen\u001b[0m\u001b[0;34m(\u001b[0m\u001b[0mphi\u001b[0m\u001b[0;34m)\u001b[0m\u001b[0;34m)\u001b[0m\u001b[0;34m:\u001b[0m\u001b[0;34m\u001b[0m\u001b[0;34m\u001b[0m\u001b[0m\n\u001b[0;32m--> 467\u001b[0;31m                 \u001b[0mcheck_sum\u001b[0m\u001b[0;34m(\u001b[0m\u001b[0mself\u001b[0m\u001b[0;34m.\u001b[0m\u001b[0mexpected_value\u001b[0m\u001b[0;34m[\u001b[0m\u001b[0mi\u001b[0m\u001b[0;34m]\u001b[0m \u001b[0;34m+\u001b[0m \u001b[0mphi\u001b[0m\u001b[0;34m[\u001b[0m\u001b[0mi\u001b[0m\u001b[0;34m]\u001b[0m\u001b[0;34m.\u001b[0m\u001b[0msum\u001b[0m\u001b[0;34m(\u001b[0m\u001b[0;34m-\u001b[0m\u001b[0;36m1\u001b[0m\u001b[0;34m)\u001b[0m\u001b[0;34m,\u001b[0m \u001b[0mmodel_output\u001b[0m\u001b[0;34m[\u001b[0m\u001b[0;34m:\u001b[0m\u001b[0;34m,\u001b[0m\u001b[0mi\u001b[0m\u001b[0;34m]\u001b[0m\u001b[0;34m)\u001b[0m\u001b[0;34m\u001b[0m\u001b[0;34m\u001b[0m\u001b[0m\n\u001b[0m\u001b[1;32m    468\u001b[0m         \u001b[0;32melse\u001b[0m\u001b[0;34m:\u001b[0m\u001b[0;34m\u001b[0m\u001b[0;34m\u001b[0m\u001b[0m\n\u001b[1;32m    469\u001b[0m             \u001b[0mcheck_sum\u001b[0m\u001b[0;34m(\u001b[0m\u001b[0mself\u001b[0m\u001b[0;34m.\u001b[0m\u001b[0mexpected_value\u001b[0m \u001b[0;34m+\u001b[0m \u001b[0mphi\u001b[0m\u001b[0;34m.\u001b[0m\u001b[0msum\u001b[0m\u001b[0;34m(\u001b[0m\u001b[0;34m-\u001b[0m\u001b[0;36m1\u001b[0m\u001b[0;34m)\u001b[0m\u001b[0;34m,\u001b[0m \u001b[0mmodel_output\u001b[0m\u001b[0;34m)\u001b[0m\u001b[0;34m\u001b[0m\u001b[0;34m\u001b[0m\u001b[0m\n",
      "\u001b[0;32m/opt/anaconda3/lib/python3.7/site-packages/shap/explainers/tree.py\u001b[0m in \u001b[0;36mcheck_sum\u001b[0;34m(sum_val, model_output)\u001b[0m\n\u001b[1;32m    461\u001b[0m                            \u001b[0;34m\" was %f, while the model output was %f. If this difference is acceptable\"\u001b[0m\u001b[0;31m \u001b[0m\u001b[0;31m\\\u001b[0m\u001b[0;34m\u001b[0m\u001b[0;34m\u001b[0m\u001b[0m\n\u001b[1;32m    462\u001b[0m                            \u001b[0;34m\" you can set check_additivity=False to disable this check.\"\u001b[0m \u001b[0;34m%\u001b[0m \u001b[0;34m(\u001b[0m\u001b[0msum_val\u001b[0m\u001b[0;34m[\u001b[0m\u001b[0mind\u001b[0m\u001b[0;34m]\u001b[0m\u001b[0;34m,\u001b[0m \u001b[0mmodel_output\u001b[0m\u001b[0;34m[\u001b[0m\u001b[0mind\u001b[0m\u001b[0;34m]\u001b[0m\u001b[0;34m)\u001b[0m\u001b[0;34m\u001b[0m\u001b[0;34m\u001b[0m\u001b[0m\n\u001b[0;32m--> 463\u001b[0;31m                 \u001b[0;32mraise\u001b[0m \u001b[0mSHAPError\u001b[0m\u001b[0;34m(\u001b[0m\u001b[0merr_msg\u001b[0m\u001b[0;34m)\u001b[0m\u001b[0;34m\u001b[0m\u001b[0;34m\u001b[0m\u001b[0m\n\u001b[0m\u001b[1;32m    464\u001b[0m \u001b[0;34m\u001b[0m\u001b[0m\n\u001b[1;32m    465\u001b[0m         \u001b[0;32mif\u001b[0m \u001b[0mtype\u001b[0m\u001b[0;34m(\u001b[0m\u001b[0mphi\u001b[0m\u001b[0;34m)\u001b[0m \u001b[0;32mis\u001b[0m \u001b[0mlist\u001b[0m\u001b[0;34m:\u001b[0m\u001b[0;34m\u001b[0m\u001b[0;34m\u001b[0m\u001b[0m\n",
      "\u001b[0;31mSHAPError\u001b[0m: Additivity check failed in TreeExplainer! Please ensure the data matrix you passed to the explainer is the same shape that the model was trained on. If your data shape is correct then please report this on GitHub. Consider retrying with the feature_perturbation='interventional' option. This check failed because for one of the samples the sum of the SHAP values was 244585.705663, while the model output was 1.000000. If this difference is acceptable you can set check_additivity=False to disable this check."
     ]
    }
   ],
   "source": [
    "shap_values = explainer.shap_values(top)"
   ]
  },
  {
   "cell_type": "code",
   "execution_count": null,
   "metadata": {
    "colab": {
     "base_uri": "https://localhost:8080/",
     "height": 581
    },
    "colab_type": "code",
    "executionInfo": {
     "elapsed": 637,
     "status": "ok",
     "timestamp": 1589087863568,
     "user": {
      "displayName": "Yasas Senarath",
      "photoUrl": "",
      "userId": "14973809477224735657"
     },
     "user_tz": 240
    },
    "id": "tGbFOd4VgFlb",
    "outputId": "6de9efe5-0108-4c2a-93ab-f48c066f4e64"
   },
   "outputs": [],
   "source": [
    "shap.summary_plot(shap_values, top)"
   ]
  },
  {
   "cell_type": "code",
   "execution_count": null,
   "metadata": {
    "colab": {
     "base_uri": "https://localhost:8080/",
     "height": 68,
     "output_embedded_package_id": "1Y0Nx_0nW7UTF0dWCKSs4Z5W1jgiGLFo6"
    },
    "colab_type": "code",
    "executionInfo": {
     "elapsed": 5827,
     "status": "ok",
     "timestamp": 1589087994646,
     "user": {
      "displayName": "Yasas Senarath",
      "photoUrl": "",
      "userId": "14973809477224735657"
     },
     "user_tz": 240
    },
    "id": "59o-lglbBBcj",
    "outputId": "23409969-ba7b-4cf1-e102-863094456ea4"
   },
   "outputs": [],
   "source": [
    "shap.force_plot(explainer.expected_value[0], shap_values[0])"
   ]
  },
  {
   "cell_type": "code",
   "execution_count": null,
   "metadata": {
    "colab": {},
    "colab_type": "code",
    "id": "0YwnpTYyBNya"
   },
   "outputs": [],
   "source": []
  }
 ],
 "metadata": {
  "colab": {
   "authorship_tag": "ABX9TyO8FEMPdhpHjvIGwEJCIZuz",
   "collapsed_sections": [],
   "mount_file_id": "1JlUhdKvbOpqViBhbP_7gbWKkrY0pB31V",
   "name": "05_time_series_models.ipynb",
   "provenance": []
  },
  "kernelspec": {
   "display_name": "Python 3",
   "language": "python",
   "name": "python3"
  },
  "language_info": {
   "codemirror_mode": {
    "name": "ipython",
    "version": 3
   },
   "file_extension": ".py",
   "mimetype": "text/x-python",
   "name": "python",
   "nbconvert_exporter": "python",
   "pygments_lexer": "ipython3",
   "version": "3.7.4"
  }
 },
 "nbformat": 4,
 "nbformat_minor": 1
}
